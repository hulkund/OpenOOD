{
 "cells": [
  {
   "cell_type": "markdown",
   "id": "f09246e8",
   "metadata": {},
   "source": [
    "# Easy Dev for Post-hoc OOD Detectors\n",
    "\n",
    "This notebook integrates some simple post-hoc OOD detection methods.\n",
    "\n",
    "We choose ImageNet-1K as in-distribution (ID) and load a pretrained vision transformer (ViT)."
   ]
  },
  {
   "cell_type": "code",
   "execution_count": 2,
   "id": "4dc297c1",
   "metadata": {},
   "outputs": [],
   "source": [
    "%load_ext autoreload\n",
    "%autoreload 2"
   ]
  },
  {
   "cell_type": "markdown",
   "id": "8b218878",
   "metadata": {},
   "source": [
    "## Load Models and Dataset"
   ]
  },
  {
   "cell_type": "code",
   "execution_count": 3,
   "id": "f155277c",
   "metadata": {},
   "outputs": [
    {
     "name": "stderr",
     "output_type": "stream",
     "text": [
      "/state/partition1/llgrid/pkg/anaconda/anaconda3-2022a/lib/python3.8/site-packages/torchvision/io/image.py:13: UserWarning: Failed to load image Python extension: libtorch_cuda_cu.so: cannot open shared object file: No such file or directory\n",
      "  warn(f\"Failed to load image Python extension: {e}\")\n",
      "/home/gridsan/nhulkund/.local/lib/python3.8/site-packages/mmcv/cnn/bricks/transformer.py:32: UserWarning: Fail to import ``MultiScaleDeformableAttention`` from ``mmcv.ops.multi_scale_deform_attn``, You should install ``mmcv-full`` if you need this module. \n",
      "  warnings.warn('Fail to import ``MultiScaleDeformableAttention`` from '\n"
     ]
    }
   ],
   "source": [
    "from openood.utils import config\n",
    "from openood.datasets import get_dataloader, get_ood_dataloader\n",
    "from openood.evaluators import get_evaluator\n",
    "from openood.networks import get_network\n",
    "from torchvision.transforms import RandAugment\n",
    "from torchvision import transforms"
   ]
  },
  {
   "cell_type": "code",
   "execution_count": 4,
   "id": "48968bc2",
   "metadata": {},
   "outputs": [],
   "source": [
    "# load config files for cifar10 baseline\n",
    "PATH=\"/home/gridsan/nhulkund/OpenOOD/\"\n",
    "config_files = [\n",
    "    './configs/datasets/cifar10/cifar10.yml',\n",
    "    './configs/datasets/cifar10/cifar10_ood.yml',\n",
    "    './configs/networks/resnet18_32x32.yml',\n",
    "    './configs/pipelines/test/test_ood.yml',\n",
    "    './configs/preprocessors/base_preprocessor.yml',\n",
    "    './configs/postprocessors/msp.yml',\n",
    "]\n",
    "config = config.Config(*config_files)\n",
    "# modify config \n",
    "#config.network.checkpoint = PATH+'/results/cifar10_resnet18_32x32_base_e100_lr0.1/best.ckpt'\n",
    "config.network.checkpoint = PATH+'/scripts/download/results/checkpoints/cifar10_res18_acc94.30.ckpt'\n",
    "config.network.pretrained = True\n",
    "config.num_workers = 8\n",
    "config.save_output = False\n",
    "config.parse_refs()"
   ]
  },
  {
   "cell_type": "code",
   "execution_count": 5,
   "id": "a99ab6de",
   "metadata": {},
   "outputs": [
    {
     "data": {
      "text/plain": [
       "checkpoint: /home/gridsan/nhulkund/OpenOOD//scripts/download/results/checkpoints/cifar10_res18_acc94.30.ckpt\n",
       "name: resnet18_32x32\n",
       "num_classes: 10\n",
       "num_gpus: 1\n",
       "pretrained: True"
      ]
     },
     "execution_count": 5,
     "metadata": {},
     "output_type": "execute_result"
    }
   ],
   "source": [
    "config.network"
   ]
  },
  {
   "cell_type": "code",
   "execution_count": 6,
   "id": "f41957a1",
   "metadata": {},
   "outputs": [
    {
     "name": "stdout",
     "output_type": "stream",
     "text": [
      "dataset:\n",
      "    image_size: 32\n",
      "    interpolation: bilinear\n",
      "    name: cifar10\n",
      "    normalization_type: cifar10\n",
      "    num_classes: 10\n",
      "    num_gpus: 1\n",
      "    num_machines: 1\n",
      "    num_workers: 8\n",
      "    pre_size: 32\n",
      "    split_names: ['train', 'val', 'test']\n",
      "    test:\n",
      "        batch_size: 200\n",
      "        data_dir: ./data/images_classic/\n",
      "        dataset_class: ImglistDataset\n",
      "        imglist_pth: ./data/benchmark_imglist/cifar10/test_cifar10.txt\n",
      "        shuffle: False\n",
      "    train:\n",
      "        batch_size: 128\n",
      "        data_dir: ./data/images_classic/\n",
      "        dataset_class: ImglistDataset\n",
      "        imglist_pth: ./data/benchmark_imglist/cifar10/train_cifar10.txt\n",
      "        shuffle: True\n",
      "    val:\n",
      "        batch_size: 200\n",
      "        data_dir: ./data/images_classic/\n",
      "        dataset_class: ImglistDataset\n",
      "        imglist_pth: ./data/benchmark_imglist/cifar10/val_cifar10.txt\n",
      "        shuffle: False\n",
      "evaluator:\n",
      "    name: ood\n",
      "exp_name: cifar10_resnet18_32x32_test_ood_ood_msp_default\n",
      "machine_rank: 0\n",
      "mark: default\n",
      "merge_option: default\n",
      "network:\n",
      "    checkpoint: /home/gridsan/nhulkund/OpenOOD//scripts/download/results/checkpoints/cifar10_res18_acc94.30.ckpt\n",
      "    name: resnet18_32x32\n",
      "    num_classes: 10\n",
      "    num_gpus: 1\n",
      "    pretrained: True\n",
      "num_gpus: 1\n",
      "num_machines: 1\n",
      "num_workers: 8\n",
      "ood_dataset:\n",
      "    batch_size: 128\n",
      "    dataset_class: ImglistDataset\n",
      "    farood:\n",
      "        datasets: ['mnist', 'svhn', 'texture', 'place365']\n",
      "        mnist:\n",
      "            data_dir: ./data/images_classic/\n",
      "            imglist_pth: ./data/benchmark_imglist/cifar10/test_mnist.txt\n",
      "        place365:\n",
      "            data_dir: ./data/images_classic/\n",
      "            imglist_pth: ./data/benchmark_imglist/cifar10/test_places365.txt\n",
      "        svhn:\n",
      "            data_dir: ./data/images_classic/\n",
      "            imglist_pth: ./data/benchmark_imglist/cifar10/test_svhn.txt\n",
      "        texture:\n",
      "            data_dir: ./data/images_classic/\n",
      "            imglist_pth: ./data/benchmark_imglist/cifar10/test_texture.txt\n",
      "    name: cifar10_ood\n",
      "    nearood:\n",
      "        cifar100:\n",
      "            data_dir: ./data/images_classic/\n",
      "            imglist_pth: ./data/benchmark_imglist/cifar10/test_cifar100.txt\n",
      "        datasets: ['cifar100', 'tin']\n",
      "        tin:\n",
      "            data_dir: ./data/images_classic/\n",
      "            imglist_pth: ./data/benchmark_imglist/cifar10/test_tin.txt\n",
      "    num_classes: 10\n",
      "    num_gpus: 1\n",
      "    num_machines: 1\n",
      "    num_workers: 8\n",
      "    shuffle: False\n",
      "    split_names: ['val', 'nearood', 'farood']\n",
      "    val:\n",
      "        data_dir: ./data/images_classic/\n",
      "        imglist_pth: ./data/benchmark_imglist/cifar10/val_cifar100.txt\n",
      "output_dir: ./results/\n",
      "pipeline:\n",
      "    name: test_ood\n",
      "postprocessor:\n",
      "    APS_mode: False\n",
      "    name: msp\n",
      "preprocessor:\n",
      "    name: base\n",
      "recorder:\n",
      "    save_csv: True\n",
      "    save_scores: True\n",
      "save_output: False\n"
     ]
    }
   ],
   "source": [
    "print(config)"
   ]
  },
  {
   "cell_type": "code",
   "execution_count": 7,
   "id": "35d30b38",
   "metadata": {},
   "outputs": [
    {
     "ename": "RuntimeError",
     "evalue": "CUDA error: out of memory\nCUDA kernel errors might be asynchronously reported at some other API call,so the stacktrace below might be incorrect.\nFor debugging consider passing CUDA_LAUNCH_BLOCKING=1.",
     "output_type": "error",
     "traceback": [
      "\u001b[0;31m---------------------------------------------------------------------------\u001b[0m",
      "\u001b[0;31mRuntimeError\u001b[0m                              Traceback (most recent call last)",
      "File \u001b[0;32m~/OpenOOD/openood/networks/utils.py:250\u001b[0m, in \u001b[0;36mget_network\u001b[0;34m(network_config)\u001b[0m\n\u001b[1;32m    249\u001b[0m \u001b[38;5;28;01mtry\u001b[39;00m:\n\u001b[0;32m--> 250\u001b[0m     net\u001b[38;5;241m.\u001b[39mload_state_dict(\u001b[43mtorch\u001b[49m\u001b[38;5;241;43m.\u001b[39;49m\u001b[43mload\u001b[49m\u001b[43m(\u001b[49m\u001b[43mnetwork_config\u001b[49m\u001b[38;5;241;43m.\u001b[39;49m\u001b[43mcheckpoint\u001b[49m\u001b[43m)\u001b[49m,\n\u001b[1;32m    251\u001b[0m                         strict\u001b[38;5;241m=\u001b[39m\u001b[38;5;28;01mFalse\u001b[39;00m)\n\u001b[1;32m    252\u001b[0m \u001b[38;5;28;01mexcept\u001b[39;00m \u001b[38;5;167;01mRuntimeError\u001b[39;00m:\n\u001b[1;32m    253\u001b[0m     \u001b[38;5;66;03m# sometimes fc should not be loaded\u001b[39;00m\n",
      "File \u001b[0;32m~/.local/lib/python3.8/site-packages/torch/serialization.py:712\u001b[0m, in \u001b[0;36mload\u001b[0;34m(f, map_location, pickle_module, **pickle_load_args)\u001b[0m\n\u001b[1;32m    711\u001b[0m             \u001b[38;5;28;01mreturn\u001b[39;00m torch\u001b[38;5;241m.\u001b[39mjit\u001b[38;5;241m.\u001b[39mload(opened_file)\n\u001b[0;32m--> 712\u001b[0m         \u001b[38;5;28;01mreturn\u001b[39;00m \u001b[43m_load\u001b[49m\u001b[43m(\u001b[49m\u001b[43mopened_zipfile\u001b[49m\u001b[43m,\u001b[49m\u001b[43m \u001b[49m\u001b[43mmap_location\u001b[49m\u001b[43m,\u001b[49m\u001b[43m \u001b[49m\u001b[43mpickle_module\u001b[49m\u001b[43m,\u001b[49m\u001b[43m \u001b[49m\u001b[38;5;241;43m*\u001b[39;49m\u001b[38;5;241;43m*\u001b[39;49m\u001b[43mpickle_load_args\u001b[49m\u001b[43m)\u001b[49m\n\u001b[1;32m    713\u001b[0m \u001b[38;5;28;01mreturn\u001b[39;00m _legacy_load(opened_file, map_location, pickle_module, \u001b[38;5;241m*\u001b[39m\u001b[38;5;241m*\u001b[39mpickle_load_args)\n",
      "File \u001b[0;32m~/.local/lib/python3.8/site-packages/torch/serialization.py:1046\u001b[0m, in \u001b[0;36m_load\u001b[0;34m(zip_file, map_location, pickle_module, pickle_file, **pickle_load_args)\u001b[0m\n\u001b[1;32m   1045\u001b[0m unpickler\u001b[38;5;241m.\u001b[39mpersistent_load \u001b[38;5;241m=\u001b[39m persistent_load\n\u001b[0;32m-> 1046\u001b[0m result \u001b[38;5;241m=\u001b[39m \u001b[43munpickler\u001b[49m\u001b[38;5;241;43m.\u001b[39;49m\u001b[43mload\u001b[49m\u001b[43m(\u001b[49m\u001b[43m)\u001b[49m\n\u001b[1;32m   1048\u001b[0m torch\u001b[38;5;241m.\u001b[39m_utils\u001b[38;5;241m.\u001b[39m_validate_loaded_sparse_tensors()\n",
      "File \u001b[0;32m~/.local/lib/python3.8/site-packages/torch/serialization.py:1016\u001b[0m, in \u001b[0;36m_load.<locals>.persistent_load\u001b[0;34m(saved_id)\u001b[0m\n\u001b[1;32m   1015\u001b[0m     nbytes \u001b[38;5;241m=\u001b[39m numel \u001b[38;5;241m*\u001b[39m torch\u001b[38;5;241m.\u001b[39m_utils\u001b[38;5;241m.\u001b[39m_element_size(dtype)\n\u001b[0;32m-> 1016\u001b[0m     \u001b[43mload_tensor\u001b[49m\u001b[43m(\u001b[49m\u001b[43mdtype\u001b[49m\u001b[43m,\u001b[49m\u001b[43m \u001b[49m\u001b[43mnbytes\u001b[49m\u001b[43m,\u001b[49m\u001b[43m \u001b[49m\u001b[43mkey\u001b[49m\u001b[43m,\u001b[49m\u001b[43m \u001b[49m\u001b[43m_maybe_decode_ascii\u001b[49m\u001b[43m(\u001b[49m\u001b[43mlocation\u001b[49m\u001b[43m)\u001b[49m\u001b[43m)\u001b[49m\n\u001b[1;32m   1018\u001b[0m \u001b[38;5;28;01mreturn\u001b[39;00m loaded_storages[key]\n",
      "File \u001b[0;32m~/.local/lib/python3.8/site-packages/torch/serialization.py:1001\u001b[0m, in \u001b[0;36m_load.<locals>.load_tensor\u001b[0;34m(dtype, numel, key, location)\u001b[0m\n\u001b[1;32m    998\u001b[0m \u001b[38;5;66;03m# TODO: Once we decide to break serialization FC, we can\u001b[39;00m\n\u001b[1;32m    999\u001b[0m \u001b[38;5;66;03m# stop wrapping with _TypedStorage\u001b[39;00m\n\u001b[1;32m   1000\u001b[0m loaded_storages[key] \u001b[38;5;241m=\u001b[39m torch\u001b[38;5;241m.\u001b[39mstorage\u001b[38;5;241m.\u001b[39m_TypedStorage(\n\u001b[0;32m-> 1001\u001b[0m     wrap_storage\u001b[38;5;241m=\u001b[39m\u001b[43mrestore_location\u001b[49m\u001b[43m(\u001b[49m\u001b[43mstorage\u001b[49m\u001b[43m,\u001b[49m\u001b[43m \u001b[49m\u001b[43mlocation\u001b[49m\u001b[43m)\u001b[49m,\n\u001b[1;32m   1002\u001b[0m     dtype\u001b[38;5;241m=\u001b[39mdtype)\n",
      "File \u001b[0;32m~/.local/lib/python3.8/site-packages/torch/serialization.py:176\u001b[0m, in \u001b[0;36mdefault_restore_location\u001b[0;34m(storage, location)\u001b[0m\n\u001b[1;32m    175\u001b[0m \u001b[38;5;28;01mfor\u001b[39;00m _, _, fn \u001b[38;5;129;01min\u001b[39;00m _package_registry:\n\u001b[0;32m--> 176\u001b[0m     result \u001b[38;5;241m=\u001b[39m \u001b[43mfn\u001b[49m\u001b[43m(\u001b[49m\u001b[43mstorage\u001b[49m\u001b[43m,\u001b[49m\u001b[43m \u001b[49m\u001b[43mlocation\u001b[49m\u001b[43m)\u001b[49m\n\u001b[1;32m    177\u001b[0m     \u001b[38;5;28;01mif\u001b[39;00m result \u001b[38;5;129;01mis\u001b[39;00m \u001b[38;5;129;01mnot\u001b[39;00m \u001b[38;5;28;01mNone\u001b[39;00m:\n",
      "File \u001b[0;32m~/.local/lib/python3.8/site-packages/torch/serialization.py:158\u001b[0m, in \u001b[0;36m_cuda_deserialize\u001b[0;34m(obj, location)\u001b[0m\n\u001b[1;32m    157\u001b[0m \u001b[38;5;28;01melse\u001b[39;00m:\n\u001b[0;32m--> 158\u001b[0m     \u001b[38;5;28;01mreturn\u001b[39;00m \u001b[43mobj\u001b[49m\u001b[38;5;241;43m.\u001b[39;49m\u001b[43mcuda\u001b[49m\u001b[43m(\u001b[49m\u001b[43mdevice\u001b[49m\u001b[43m)\u001b[49m\n",
      "File \u001b[0;32m~/.local/lib/python3.8/site-packages/torch/_utils.py:79\u001b[0m, in \u001b[0;36m_cuda\u001b[0;34m(self, device, non_blocking, **kwargs)\u001b[0m\n\u001b[1;32m     78\u001b[0m new_type \u001b[38;5;241m=\u001b[39m \u001b[38;5;28mgetattr\u001b[39m(torch\u001b[38;5;241m.\u001b[39mcuda, \u001b[38;5;28mself\u001b[39m\u001b[38;5;241m.\u001b[39m\u001b[38;5;18m__class__\u001b[39m\u001b[38;5;241m.\u001b[39m\u001b[38;5;18m__name__\u001b[39m)\n\u001b[0;32m---> 79\u001b[0m \u001b[38;5;28;01mreturn\u001b[39;00m \u001b[43mnew_type\u001b[49m\u001b[43m(\u001b[49m\u001b[38;5;28;43mself\u001b[39;49m\u001b[38;5;241;43m.\u001b[39;49m\u001b[43msize\u001b[49m\u001b[43m(\u001b[49m\u001b[43m)\u001b[49m\u001b[43m)\u001b[49m\u001b[38;5;241;43m.\u001b[39;49m\u001b[43mcopy_\u001b[49m\u001b[43m(\u001b[49m\u001b[38;5;28;43mself\u001b[39;49m\u001b[43m,\u001b[49m\u001b[43m \u001b[49m\u001b[43mnon_blocking\u001b[49m\u001b[43m)\u001b[49m\n",
      "\u001b[0;31mRuntimeError\u001b[0m: CUDA error: out of memory\nCUDA kernel errors might be asynchronously reported at some other API call,so the stacktrace below might be incorrect.\nFor debugging consider passing CUDA_LAUNCH_BLOCKING=1.",
      "\nDuring handling of the above exception, another exception occurred:\n",
      "\u001b[0;31mRuntimeError\u001b[0m                              Traceback (most recent call last)",
      "Input \u001b[0;32mIn [7]\u001b[0m, in \u001b[0;36m<cell line: 5>\u001b[0;34m()\u001b[0m\n\u001b[1;32m      3\u001b[0m ood_loader_dict \u001b[38;5;241m=\u001b[39m get_ood_dataloader(config)\n\u001b[1;32m      4\u001b[0m \u001b[38;5;66;03m# init network\u001b[39;00m\n\u001b[0;32m----> 5\u001b[0m net \u001b[38;5;241m=\u001b[39m \u001b[43mget_network\u001b[49m\u001b[43m(\u001b[49m\u001b[43mconfig\u001b[49m\u001b[38;5;241;43m.\u001b[39;49m\u001b[43mnetwork\u001b[49m\u001b[43m)\u001b[49m\u001b[38;5;241m.\u001b[39mcuda()\n\u001b[1;32m      6\u001b[0m \u001b[38;5;66;03m# init ood evaluator\u001b[39;00m\n\u001b[1;32m      7\u001b[0m evaluator \u001b[38;5;241m=\u001b[39m get_evaluator(config)\n",
      "File \u001b[0;32m~/OpenOOD/openood/networks/utils.py:254\u001b[0m, in \u001b[0;36mget_network\u001b[0;34m(network_config)\u001b[0m\n\u001b[1;32m    250\u001b[0m     net\u001b[38;5;241m.\u001b[39mload_state_dict(torch\u001b[38;5;241m.\u001b[39mload(network_config\u001b[38;5;241m.\u001b[39mcheckpoint),\n\u001b[1;32m    251\u001b[0m                         strict\u001b[38;5;241m=\u001b[39m\u001b[38;5;28;01mFalse\u001b[39;00m)\n\u001b[1;32m    252\u001b[0m \u001b[38;5;28;01mexcept\u001b[39;00m \u001b[38;5;167;01mRuntimeError\u001b[39;00m:\n\u001b[1;32m    253\u001b[0m     \u001b[38;5;66;03m# sometimes fc should not be loaded\u001b[39;00m\n\u001b[0;32m--> 254\u001b[0m     loaded_pth \u001b[38;5;241m=\u001b[39m \u001b[43mtorch\u001b[49m\u001b[38;5;241;43m.\u001b[39;49m\u001b[43mload\u001b[49m\u001b[43m(\u001b[49m\u001b[43mnetwork_config\u001b[49m\u001b[38;5;241;43m.\u001b[39;49m\u001b[43mcheckpoint\u001b[49m\u001b[43m)\u001b[49m\n\u001b[1;32m    255\u001b[0m     loaded_pth\u001b[38;5;241m.\u001b[39mpop(\u001b[38;5;124m'\u001b[39m\u001b[38;5;124mfc.weight\u001b[39m\u001b[38;5;124m'\u001b[39m)\n\u001b[1;32m    256\u001b[0m     loaded_pth\u001b[38;5;241m.\u001b[39mpop(\u001b[38;5;124m'\u001b[39m\u001b[38;5;124mfc.bias\u001b[39m\u001b[38;5;124m'\u001b[39m)\n",
      "File \u001b[0;32m~/.local/lib/python3.8/site-packages/torch/serialization.py:712\u001b[0m, in \u001b[0;36mload\u001b[0;34m(f, map_location, pickle_module, **pickle_load_args)\u001b[0m\n\u001b[1;32m    710\u001b[0m             opened_file\u001b[38;5;241m.\u001b[39mseek(orig_position)\n\u001b[1;32m    711\u001b[0m             \u001b[38;5;28;01mreturn\u001b[39;00m torch\u001b[38;5;241m.\u001b[39mjit\u001b[38;5;241m.\u001b[39mload(opened_file)\n\u001b[0;32m--> 712\u001b[0m         \u001b[38;5;28;01mreturn\u001b[39;00m \u001b[43m_load\u001b[49m\u001b[43m(\u001b[49m\u001b[43mopened_zipfile\u001b[49m\u001b[43m,\u001b[49m\u001b[43m \u001b[49m\u001b[43mmap_location\u001b[49m\u001b[43m,\u001b[49m\u001b[43m \u001b[49m\u001b[43mpickle_module\u001b[49m\u001b[43m,\u001b[49m\u001b[43m \u001b[49m\u001b[38;5;241;43m*\u001b[39;49m\u001b[38;5;241;43m*\u001b[39;49m\u001b[43mpickle_load_args\u001b[49m\u001b[43m)\u001b[49m\n\u001b[1;32m    713\u001b[0m \u001b[38;5;28;01mreturn\u001b[39;00m _legacy_load(opened_file, map_location, pickle_module, \u001b[38;5;241m*\u001b[39m\u001b[38;5;241m*\u001b[39mpickle_load_args)\n",
      "File \u001b[0;32m~/.local/lib/python3.8/site-packages/torch/serialization.py:1046\u001b[0m, in \u001b[0;36m_load\u001b[0;34m(zip_file, map_location, pickle_module, pickle_file, **pickle_load_args)\u001b[0m\n\u001b[1;32m   1044\u001b[0m unpickler \u001b[38;5;241m=\u001b[39m UnpicklerWrapper(data_file, \u001b[38;5;241m*\u001b[39m\u001b[38;5;241m*\u001b[39mpickle_load_args)\n\u001b[1;32m   1045\u001b[0m unpickler\u001b[38;5;241m.\u001b[39mpersistent_load \u001b[38;5;241m=\u001b[39m persistent_load\n\u001b[0;32m-> 1046\u001b[0m result \u001b[38;5;241m=\u001b[39m \u001b[43munpickler\u001b[49m\u001b[38;5;241;43m.\u001b[39;49m\u001b[43mload\u001b[49m\u001b[43m(\u001b[49m\u001b[43m)\u001b[49m\n\u001b[1;32m   1048\u001b[0m torch\u001b[38;5;241m.\u001b[39m_utils\u001b[38;5;241m.\u001b[39m_validate_loaded_sparse_tensors()\n\u001b[1;32m   1050\u001b[0m \u001b[38;5;28;01mreturn\u001b[39;00m result\n",
      "File \u001b[0;32m~/.local/lib/python3.8/site-packages/torch/serialization.py:1016\u001b[0m, in \u001b[0;36m_load.<locals>.persistent_load\u001b[0;34m(saved_id)\u001b[0m\n\u001b[1;32m   1014\u001b[0m \u001b[38;5;28;01mif\u001b[39;00m key \u001b[38;5;129;01mnot\u001b[39;00m \u001b[38;5;129;01min\u001b[39;00m loaded_storages:\n\u001b[1;32m   1015\u001b[0m     nbytes \u001b[38;5;241m=\u001b[39m numel \u001b[38;5;241m*\u001b[39m torch\u001b[38;5;241m.\u001b[39m_utils\u001b[38;5;241m.\u001b[39m_element_size(dtype)\n\u001b[0;32m-> 1016\u001b[0m     \u001b[43mload_tensor\u001b[49m\u001b[43m(\u001b[49m\u001b[43mdtype\u001b[49m\u001b[43m,\u001b[49m\u001b[43m \u001b[49m\u001b[43mnbytes\u001b[49m\u001b[43m,\u001b[49m\u001b[43m \u001b[49m\u001b[43mkey\u001b[49m\u001b[43m,\u001b[49m\u001b[43m \u001b[49m\u001b[43m_maybe_decode_ascii\u001b[49m\u001b[43m(\u001b[49m\u001b[43mlocation\u001b[49m\u001b[43m)\u001b[49m\u001b[43m)\u001b[49m\n\u001b[1;32m   1018\u001b[0m \u001b[38;5;28;01mreturn\u001b[39;00m loaded_storages[key]\n",
      "File \u001b[0;32m~/.local/lib/python3.8/site-packages/torch/serialization.py:1001\u001b[0m, in \u001b[0;36m_load.<locals>.load_tensor\u001b[0;34m(dtype, numel, key, location)\u001b[0m\n\u001b[1;32m    997\u001b[0m storage \u001b[38;5;241m=\u001b[39m zip_file\u001b[38;5;241m.\u001b[39mget_storage_from_record(name, numel, torch\u001b[38;5;241m.\u001b[39m_UntypedStorage)\u001b[38;5;241m.\u001b[39mstorage()\u001b[38;5;241m.\u001b[39m_untyped()\n\u001b[1;32m    998\u001b[0m \u001b[38;5;66;03m# TODO: Once we decide to break serialization FC, we can\u001b[39;00m\n\u001b[1;32m    999\u001b[0m \u001b[38;5;66;03m# stop wrapping with _TypedStorage\u001b[39;00m\n\u001b[1;32m   1000\u001b[0m loaded_storages[key] \u001b[38;5;241m=\u001b[39m torch\u001b[38;5;241m.\u001b[39mstorage\u001b[38;5;241m.\u001b[39m_TypedStorage(\n\u001b[0;32m-> 1001\u001b[0m     wrap_storage\u001b[38;5;241m=\u001b[39m\u001b[43mrestore_location\u001b[49m\u001b[43m(\u001b[49m\u001b[43mstorage\u001b[49m\u001b[43m,\u001b[49m\u001b[43m \u001b[49m\u001b[43mlocation\u001b[49m\u001b[43m)\u001b[49m,\n\u001b[1;32m   1002\u001b[0m     dtype\u001b[38;5;241m=\u001b[39mdtype)\n",
      "File \u001b[0;32m~/.local/lib/python3.8/site-packages/torch/serialization.py:176\u001b[0m, in \u001b[0;36mdefault_restore_location\u001b[0;34m(storage, location)\u001b[0m\n\u001b[1;32m    174\u001b[0m \u001b[38;5;28;01mdef\u001b[39;00m \u001b[38;5;21mdefault_restore_location\u001b[39m(storage, location):\n\u001b[1;32m    175\u001b[0m     \u001b[38;5;28;01mfor\u001b[39;00m _, _, fn \u001b[38;5;129;01min\u001b[39;00m _package_registry:\n\u001b[0;32m--> 176\u001b[0m         result \u001b[38;5;241m=\u001b[39m \u001b[43mfn\u001b[49m\u001b[43m(\u001b[49m\u001b[43mstorage\u001b[49m\u001b[43m,\u001b[49m\u001b[43m \u001b[49m\u001b[43mlocation\u001b[49m\u001b[43m)\u001b[49m\n\u001b[1;32m    177\u001b[0m         \u001b[38;5;28;01mif\u001b[39;00m result \u001b[38;5;129;01mis\u001b[39;00m \u001b[38;5;129;01mnot\u001b[39;00m \u001b[38;5;28;01mNone\u001b[39;00m:\n\u001b[1;32m    178\u001b[0m             \u001b[38;5;28;01mreturn\u001b[39;00m result\n",
      "File \u001b[0;32m~/.local/lib/python3.8/site-packages/torch/serialization.py:158\u001b[0m, in \u001b[0;36m_cuda_deserialize\u001b[0;34m(obj, location)\u001b[0m\n\u001b[1;32m    156\u001b[0m         \u001b[38;5;28;01mreturn\u001b[39;00m storage_type(obj\u001b[38;5;241m.\u001b[39mnbytes())\n\u001b[1;32m    157\u001b[0m \u001b[38;5;28;01melse\u001b[39;00m:\n\u001b[0;32m--> 158\u001b[0m     \u001b[38;5;28;01mreturn\u001b[39;00m \u001b[43mobj\u001b[49m\u001b[38;5;241;43m.\u001b[39;49m\u001b[43mcuda\u001b[49m\u001b[43m(\u001b[49m\u001b[43mdevice\u001b[49m\u001b[43m)\u001b[49m\n",
      "File \u001b[0;32m~/.local/lib/python3.8/site-packages/torch/_utils.py:79\u001b[0m, in \u001b[0;36m_cuda\u001b[0;34m(self, device, non_blocking, **kwargs)\u001b[0m\n\u001b[1;32m     77\u001b[0m \u001b[38;5;28;01melse\u001b[39;00m:\n\u001b[1;32m     78\u001b[0m     new_type \u001b[38;5;241m=\u001b[39m \u001b[38;5;28mgetattr\u001b[39m(torch\u001b[38;5;241m.\u001b[39mcuda, \u001b[38;5;28mself\u001b[39m\u001b[38;5;241m.\u001b[39m\u001b[38;5;18m__class__\u001b[39m\u001b[38;5;241m.\u001b[39m\u001b[38;5;18m__name__\u001b[39m)\n\u001b[0;32m---> 79\u001b[0m     \u001b[38;5;28;01mreturn\u001b[39;00m \u001b[43mnew_type\u001b[49m\u001b[43m(\u001b[49m\u001b[38;5;28;43mself\u001b[39;49m\u001b[38;5;241;43m.\u001b[39;49m\u001b[43msize\u001b[49m\u001b[43m(\u001b[49m\u001b[43m)\u001b[49m\u001b[43m)\u001b[49m\u001b[38;5;241;43m.\u001b[39;49m\u001b[43mcopy_\u001b[49m\u001b[43m(\u001b[49m\u001b[38;5;28;43mself\u001b[39;49m\u001b[43m,\u001b[49m\u001b[43m \u001b[49m\u001b[43mnon_blocking\u001b[49m\u001b[43m)\u001b[49m\n",
      "\u001b[0;31mRuntimeError\u001b[0m: CUDA error: out of memory\nCUDA kernel errors might be asynchronously reported at some other API call,so the stacktrace below might be incorrect.\nFor debugging consider passing CUDA_LAUNCH_BLOCKING=1."
     ]
    }
   ],
   "source": [
    "# get dataloader\n",
    "id_loader_dict = get_dataloader(config)\n",
    "ood_loader_dict = get_ood_dataloader(config)\n",
    "# init network\n",
    "net = get_network(config.network).cuda()\n",
    "# init ood evaluator\n",
    "evaluator = get_evaluator(config)"
   ]
  },
  {
   "cell_type": "markdown",
   "id": "2043b57f",
   "metadata": {},
   "source": [
    "## Feature Extraction"
   ]
  },
  {
   "cell_type": "code",
   "execution_count": null,
   "id": "f430f169",
   "metadata": {},
   "outputs": [],
   "source": [
    "from tqdm import tqdm\n",
    "import numpy as np\n",
    "import torch\n",
    "import os.path as osp\n",
    "import os\n",
    "import cv2\n",
    "import matplotlib.pyplot as plt\n",
    "from skimage.exposure import rescale_intensity\n",
    "from skimage import img_as_ubyte\n",
    "from PIL import Image\n",
    "\n"
   ]
  },
  {
   "cell_type": "code",
   "execution_count": null,
   "id": "ab525d63",
   "metadata": {},
   "outputs": [],
   "source": [
    "def imshow(img):\n",
    "    #img = img / 2 + 0.5     # unnormalize\n",
    "    npimg = img.numpy()\n",
    "    plt.imshow(np.transpose(npimg, (1, 2, 0)))\n",
    "    plt.show()\n",
    "\n",
    "def augment_preprocess(im):\n",
    "    rand_aug = RandAugment(num_ops=1, magnitude=5)\n",
    "    #print(im[1][1][1])\n",
    "    data_max, data_min = im.clone().max(), im.clone().min()\n",
    "    pre_im = preprocess(im, data_max, data_min)\n",
    "    #print(pre_im[1][1][1])\n",
    "    #imshow(pre_im)\n",
    "    aug_im = rand_aug(pre_im)\n",
    "    post_im = postprocess(aug_im, data_max, data_min)\n",
    "    #print(post_im[1][1][1])\n",
    "    return post_im\n",
    "\n",
    "def preprocess(data, data_max, data_min):\n",
    "    data = (data - data_min) / (data_max - data_min) # normalize the data to 0 - 1\n",
    "    #print(\"after normalise\", data[1][1][1])\n",
    "    data = 255 * data # Now scale by 255\n",
    "    #print(\"after 255\", data[1][1][1])\n",
    "    data = data.type(torch.uint8)\n",
    "    #print(\"after uint\", data[1][1][1])\n",
    "    return data\n",
    "\n",
    "def postprocess(data, data_max, data_min):\n",
    "    data = data.type(torch.float32)\n",
    "    #print(\"after float\", data[1][1][1])\n",
    "    data /= 255\n",
    "    #print(\"after 255 divide\", data[1][1][1])\n",
    "    data = (data * (data_max - data_min)) + data_min\n",
    "    #print(\"after unnormalise\", data[1][1][1])\n",
    "    return data\n",
    "    \n",
    "    \n",
    "\n",
    "# def preprocess(im):\n",
    "#     im = rescale_intensity(im.numpy(), in_range='image', out_range=(0,1))\n",
    "#     im = img_as_ubyte(im)\n",
    "#     im = im.astype(np.uint8)\n",
    "#     return im"
   ]
  },
  {
   "cell_type": "code",
   "execution_count": null,
   "id": "bb435b42",
   "metadata": {},
   "outputs": [],
   "source": [
    "from torchvision.datasets import CIFAR10, CIFAR100\n",
    "import torchvision.transforms as transforms\n",
    "\n",
    "transform = transforms.Compose(\n",
    "    [transforms.ToTensor(),\n",
    "     transforms.Normalize((0.5, 0.5, 0.5), (0.5, 0.5, 0.5))])\n",
    "trainset = CIFAR10(root='./data', train=True, download=False, transform=transform)\n",
    "trainloader = torch.utils.data.DataLoader(trainset, batch_size=32,\n",
    "                                          shuffle=True, num_workers=2)\n",
    "dataiter = iter(trainloader)\n",
    "images, labels = next(dataiter)"
   ]
  },
  {
   "cell_type": "code",
   "execution_count": null,
   "id": "9f72292e",
   "metadata": {},
   "outputs": [],
   "source": [
    "img=images[1]\n",
    "\n",
    "imshow(img)\n",
    "#print(img)\n",
    "aug_img=augment_preprocess(img)\n",
    "print(\"AT END\")\n",
    "plt.imshow(np.transpose(aug_img, (1, 2, 0)), interpolation='nearest')"
   ]
  },
  {
   "cell_type": "code",
   "execution_count": null,
   "id": "512fe29c",
   "metadata": {},
   "outputs": [],
   "source": [
    "def save_arr_to_dir(arr, dir):\n",
    "    os.makedirs(os.path.dirname(dir), exist_ok=True)\n",
    "    with open(dir, 'wb+') as f:\n",
    "        np.save(f, arr)"
   ]
  },
  {
   "cell_type": "code",
   "execution_count": null,
   "id": "418778f7",
   "metadata": {},
   "outputs": [],
   "source": [
    "save_root = PATH+f'/results/{config.exp_name}'\n"
   ]
  },
  {
   "cell_type": "code",
   "execution_count": null,
   "id": "62b60377",
   "metadata": {},
   "outputs": [],
   "source": [
    "RAND_N=3\n",
    "RAND_M=5"
   ]
  },
  {
   "cell_type": "code",
   "execution_count": null,
   "id": "e2f12809",
   "metadata": {},
   "outputs": [],
   "source": [
    "# save id (test & val) results\n",
    "net.eval()\n",
    "modes = ['test', 'val']\n",
    "for mode in modes:\n",
    "    dl = id_loader_dict[mode]\n",
    "    dataiter = iter(dl)\n",
    "    \n",
    "    logits_list = []\n",
    "    feature_list = []\n",
    "    label_list = []\n",
    "    id_list = []\n",
    "    count=0\n",
    "    print(id_list)\n",
    "    for i in tqdm(range(1,\n",
    "                    len(dataiter) + 1),\n",
    "                    desc='Extracting reults...',\n",
    "                    position=0,\n",
    "                    leave=True):\n",
    "        batch = next(dataiter)\n",
    "        data = batch['data'].cuda()\n",
    "        label = batch['label']\n",
    "        with torch.no_grad():\n",
    "            logits_cls, feature = net(data, return_feature=True)\n",
    "        logits_list.append(logits_cls.data.to('cpu').numpy())\n",
    "        feature_list.append(feature.data.to('cpu').numpy())\n",
    "        label_list.append(label.numpy())\n",
    "\n",
    "    logits_arr = np.concatenate(logits_list)\n",
    "    feature_arr = np.concatenate(feature_list)\n",
    "    label_arr = np.concatenate(label_list)\n",
    "    \n",
    "    save_arr_to_dir(logits_arr, osp.join(save_root, 'id', f'{mode}_logits.npy'))\n",
    "    save_arr_to_dir(feature_arr, osp.join(save_root, 'id', f'{mode}_feature.npy'))\n",
    "    save_arr_to_dir(label_arr, osp.join(save_root, 'id', f'{mode}_labels.npy'))"
   ]
  },
  {
   "cell_type": "code",
   "execution_count": null,
   "id": "8886e2ef",
   "metadata": {},
   "outputs": [],
   "source": []
  },
  {
   "cell_type": "code",
   "execution_count": null,
   "id": "41886d06",
   "metadata": {},
   "outputs": [],
   "source": []
  },
  {
   "cell_type": "code",
   "execution_count": null,
   "id": "5cded214",
   "metadata": {},
   "outputs": [],
   "source": [
    "# save ood results\n",
    "net.eval()\n",
    "ood_splits = ['nearood', 'farood']\n",
    "for ood_split in ood_splits:\n",
    "    for dataset_name, ood_dl in ood_loader_dict[ood_split].items():\n",
    "        dataiter = iter(ood_dl)\n",
    "    \n",
    "        logits_list = []\n",
    "        feature_list = []\n",
    "        label_list = []\n",
    "\n",
    "        for i in tqdm(range(1,\n",
    "                        len(dataiter) + 1),\n",
    "                        desc='Extracting reults...',\n",
    "                        position=0,\n",
    "                        leave=True):\n",
    "            batch = next(dataiter)\n",
    "            data = batch['data'].cuda()\n",
    "            label = batch['label']\n",
    "            aug_data=[]\n",
    "            aug_label=[]\n",
    "            for k in range(data.shape[0]):\n",
    "                count+=1\n",
    "                orig_img=data[k]\n",
    "                aug_data.append(orig_img.cpu())\n",
    "                aug_label.append(label[k])\n",
    "                for j in range(10):\n",
    "                    id_list.append(count)\n",
    "                    aug_img=augment_preprocess(orig_img.cpu())\n",
    "                    aug_img=torch.Tensor(aug_img)\n",
    "                    aug_data.append(aug_img)\n",
    "                    aug_label.append(label[k])\n",
    "            aug_data=torch.stack(aug_data).cuda()\n",
    "            aug_label=torch.stack(aug_label)\n",
    "            with torch.no_grad():\n",
    "                logits_cls, feature = net(aug_data, return_feature=True)\n",
    "            logits_list.append(logits_cls.data.to('cpu').numpy())\n",
    "            feature_list.append(feature.data.to('cpu').numpy())\n",
    "            #label_list.append(aug_label.numpy())\n",
    "            label_list.append(label.numpy())\n",
    "\n",
    "        logits_arr = np.concatenate(logits_list)\n",
    "        feature_arr = np.concatenate(feature_list)\n",
    "        label_arr = np.concatenate(label_list)\n",
    "        \n",
    "        save_arr_to_dir(logits_arr, osp.join(save_root, ood_split, f'{dataset_name}_logits.npy'))\n",
    "        save_arr_to_dir(feature_arr, osp.join(save_root, ood_split, f'{dataset_name}_feature.npy'))\n",
    "        save_arr_to_dir(label_arr, osp.join(save_root, ood_split, f'{dataset_name}_labels.npy'))\n",
    "        save_arr_to_dir(id_list, osp.join(save_root, ood_split, f'{dataset_name}_ids.npy'))"
   ]
  },
  {
   "cell_type": "markdown",
   "id": "0b69a9ed",
   "metadata": {},
   "source": [
    "## MSP Evaluation"
   ]
  },
  {
   "cell_type": "code",
   "execution_count": null,
   "id": "db3f705b",
   "metadata": {},
   "outputs": [],
   "source": [
    "# build msp method (pass in pre-saved logits)\n",
    "def msp_postprocess(logits):\n",
    "    score = torch.softmax(logits, dim=1)\n",
    "    conf, pred = torch.max(score, dim=1)\n",
    "    return pred, conf\n",
    "\n",
    "def msp_aug_postprocess(logits):\n",
    "    score = torch.softmax(logits, dim=1)\n",
    "    if score.shape[0] % 11 == 0: \n",
    "        first_dim=int(score.shape[0]/11)\n",
    "        second_dim=11\n",
    "    else:\n",
    "        print(score.shape)\n",
    "    score_reshaped=score.numpy().reshape(first_dim,second_dim,10)\n",
    "    score_averaged=torch.Tensor(np.mean(score_reshaped,axis=1))\n",
    "    conf, pred = torch.max(score_averaged, dim=1)\n",
    "    return pred, conf"
   ]
  },
  {
   "cell_type": "code",
   "execution_count": null,
   "id": "a1cac34c",
   "metadata": {},
   "outputs": [],
   "source": [
    "# load logits, feature, label for this benchmark\n",
    "results = dict()\n",
    "# for id\n",
    "modes = ['val', 'test']\n",
    "results['id'] = dict()\n",
    "for mode in modes:\n",
    "    results['id'][mode] = dict()\n",
    "    results['id'][mode]['feature'] = np.load(osp.join(save_root, 'id', f'{mode}_feature.npy'))\n",
    "    results['id'][mode]['logits'] = np.load(osp.join(save_root, 'id', f'{mode}_logits.npy'))\n",
    "    results['id'][mode]['labels'] = np.load(osp.join(save_root, 'id', f'{mode}_labels.npy'))\n",
    "\n",
    "# for ood\n",
    "split_types = ['nearood', 'farood']\n",
    "for split_type in split_types:\n",
    "    results[split_type] = dict()\n",
    "    dataset_names = config['ood_dataset'][split_type].datasets\n",
    "    for dataset_name in dataset_names:\n",
    "        results[split_type][dataset_name] = dict()\n",
    "        results[split_type][dataset_name]['feature'] = np.load(osp.join(save_root, split_type, f'{dataset_name}_feature.npy'))\n",
    "        results[split_type][dataset_name]['logits'] = np.load(osp.join(save_root, split_type, f'{dataset_name}_logits.npy'))\n",
    "        results[split_type][dataset_name]['labels'] = np.load(osp.join(save_root, split_type, f'{dataset_name}_labels.npy'))\n",
    "        \n"
   ]
  },
  {
   "cell_type": "code",
   "execution_count": null,
   "id": "c6574e41",
   "metadata": {},
   "outputs": [],
   "source": []
  },
  {
   "cell_type": "code",
   "execution_count": null,
   "id": "79697d8c",
   "metadata": {},
   "outputs": [],
   "source": [
    "def print_nested_dict(dict_obj, indent = 0):\n",
    "    ''' Pretty Print nested dictionary with given indent level  \n",
    "    '''\n",
    "    # Iterate over all key-value pairs of dictionary\n",
    "    for key, value in dict_obj.items():\n",
    "        # If value is dict type, then print nested dict \n",
    "        if isinstance(value, dict):\n",
    "            print(' ' * indent, key, ':', '{')\n",
    "            print_nested_dict(value, indent + 2)\n",
    "            print(' ' * indent, '}')\n",
    "        else:\n",
    "            print(' ' * indent, key, ':', value.shape)\n"
   ]
  },
  {
   "cell_type": "code",
   "execution_count": null,
   "id": "2dfe3614",
   "metadata": {},
   "outputs": [],
   "source": [
    "print_nested_dict(results)"
   ]
  },
  {
   "cell_type": "code",
   "execution_count": null,
   "id": "a3af6815",
   "metadata": {},
   "outputs": [],
   "source": [
    "# get pred, conf, gt from MSP postprocessor (can change to your custom_postprocessor here)\n",
    "postprocess_results = dict()\n",
    "# id\n",
    "modes = ['val', 'test']\n",
    "postprocess_results['id'] = dict()\n",
    "for mode in modes:\n",
    "    pred, conf = msp_postprocess(torch.from_numpy(results['id'][mode]['logits']))\n",
    "    pred, conf = pred.numpy(), conf.numpy()\n",
    "    gt = results['id'][mode]['labels']\n",
    "    postprocess_results['id'][mode] = [pred, conf, gt]\n",
    "\n",
    "# ood\n",
    "split_types = ['nearood', 'farood']\n",
    "for split_type in split_types:\n",
    "    postprocess_results[split_type] = dict()\n",
    "    dataset_names = config['ood_dataset'][split_type].datasets\n",
    "    for dataset_name in dataset_names:\n",
    "        pred, conf = msp_aug_postprocess(torch.from_numpy(results[split_type][dataset_name]['logits']))\n",
    "        pred, conf = pred.numpy(), conf.numpy()\n",
    "        gt = results[split_type][dataset_name]['labels']\n",
    "        gt = -1 * np.ones_like(gt)   # hard set to -1 here\n",
    "        postprocess_results[split_type][dataset_name] = [pred, conf, gt]"
   ]
  },
  {
   "cell_type": "code",
   "execution_count": null,
   "id": "41e3dac6",
   "metadata": {},
   "outputs": [],
   "source": [
    "def print_all_metrics(metrics):\n",
    "    [fpr, auroc, aupr_in, aupr_out,\n",
    "        ccr_4, ccr_3, ccr_2, ccr_1, accuracy] \\\n",
    "        = metrics\n",
    "    print('FPR@95: {:.2f}, AUROC: {:.2f}'.format(100 * fpr, 100 * auroc),\n",
    "            end=' ',\n",
    "            flush=True)\n",
    "    print('AUPR_IN: {:.2f}, AUPR_OUT: {:.2f}'.format(\n",
    "        100 * aupr_in, 100 * aupr_out),\n",
    "            flush=True)\n",
    "    print('CCR: {:.2f}, {:.2f}, {:.2f}, {:.2f},'.format(\n",
    "        ccr_4 * 100, ccr_3 * 100, ccr_2 * 100, ccr_1 * 100),\n",
    "            end=' ',\n",
    "            flush=True)\n",
    "    print('ACC: {:.2f}'.format(accuracy * 100), flush=True)\n",
    "    print(u'\\u2500' * 70, flush=True)   "
   ]
  },
  {
   "cell_type": "code",
   "execution_count": null,
   "id": "b16e6f5b",
   "metadata": {},
   "outputs": [],
   "source": [
    "from openood.evaluators.metrics import compute_all_metrics\n",
    "def eval_ood(postprocess_results):\n",
    "    [id_pred, id_conf, id_gt] = postprocess_results['id']['test']\n",
    "    split_types = ['nearood', 'farood']\n",
    "\n",
    "    for split_type in split_types:\n",
    "        metrics_list = []\n",
    "        print(f\"Performing evaluation on {split_type} datasets...\")\n",
    "        dataset_names = config['ood_dataset'][split_type].datasets\n",
    "        \n",
    "        for dataset_name in dataset_names:\n",
    "            [ood_pred, ood_conf, ood_gt] = postprocess_results[split_type][dataset_name]\n",
    "\n",
    "            pred = np.concatenate([id_pred, ood_pred])\n",
    "            conf = np.concatenate([id_conf, ood_conf])\n",
    "            label = np.concatenate([id_gt, ood_gt])\n",
    "            print(f'Computing metrics on {dataset_name} dataset...')\n",
    "\n",
    "            ood_metrics = compute_all_metrics(conf, label, pred)\n",
    "            print_all_metrics(ood_metrics)\n",
    "            metrics_list.append(ood_metrics)\n",
    "        print('Computing mean metrics...', flush=True)\n",
    "        metrics_list = np.array(metrics_list)\n",
    "        metrics_mean = np.mean(metrics_list, axis=0)   \n",
    "        print_all_metrics(metrics_mean)\n",
    "\n",
    " "
   ]
  },
  {
   "cell_type": "code",
   "execution_count": null,
   "id": "335686fe",
   "metadata": {},
   "outputs": [],
   "source": [
    "eval_ood(postprocess_results)"
   ]
  },
  {
   "cell_type": "code",
   "execution_count": null,
   "id": "f2ce6263",
   "metadata": {},
   "outputs": [],
   "source": []
  }
 ],
 "metadata": {
  "kernelspec": {
   "display_name": "Python 3 (ipykernel)",
   "language": "python",
   "name": "python3"
  },
  "language_info": {
   "codemirror_mode": {
    "name": "ipython",
    "version": 3
   },
   "file_extension": ".py",
   "mimetype": "text/x-python",
   "name": "python",
   "nbconvert_exporter": "python",
   "pygments_lexer": "ipython3",
   "version": "3.8.13"
  },
  "latex_envs": {
   "LaTeX_envs_menu_present": true,
   "autoclose": false,
   "autocomplete": true,
   "bibliofile": "biblio.bib",
   "cite_by": "apalike",
   "current_citInitial": 1,
   "eqLabelWithNumbers": true,
   "eqNumInitial": 1,
   "hotkeys": {
    "equation": "Ctrl-E",
    "itemize": "Ctrl-I"
   },
   "labels_anchors": false,
   "latex_user_defs": false,
   "report_style_numbering": false,
   "user_envs_cfg": false
  },
  "toc": {
   "base_numbering": 1,
   "nav_menu": {},
   "number_sections": true,
   "sideBar": true,
   "skip_h1_title": false,
   "title_cell": "Table of Contents",
   "title_sidebar": "Contents",
   "toc_cell": false,
   "toc_position": {},
   "toc_section_display": true,
   "toc_window_display": false
  },
  "vscode": {
   "interpreter": {
    "hash": "31f2aee4e71d21fbe5cf8b01ff0e069b9275f58929596ceb00d14d90e3e16cd6"
   }
  }
 },
 "nbformat": 4,
 "nbformat_minor": 5
}
