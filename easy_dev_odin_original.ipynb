{
 "cells": [
  {
   "cell_type": "markdown",
   "id": "f09246e8",
   "metadata": {},
   "source": [
    "# Easy Dev for Post-hoc OOD Detectors\n",
    "\n",
    "This notebook integrates some simple post-hoc OOD detection methods.\n",
    "\n",
    "We choose ImageNet-1K as in-distribution (ID) and load a pretrained vision transformer (ViT)."
   ]
  },
  {
   "cell_type": "code",
   "execution_count": 24,
   "id": "4dc297c1",
   "metadata": {},
   "outputs": [
    {
     "name": "stdout",
     "output_type": "stream",
     "text": [
      "The autoreload extension is already loaded. To reload it, use:\n",
      "  %reload_ext autoreload\n"
     ]
    }
   ],
   "source": [
    "%load_ext autoreload\n",
    "%autoreload 2"
   ]
  },
  {
   "cell_type": "markdown",
   "id": "8b218878",
   "metadata": {},
   "source": [
    "## Load Models and Dataset"
   ]
  },
  {
   "cell_type": "code",
   "execution_count": 25,
   "id": "f155277c",
   "metadata": {},
   "outputs": [],
   "source": [
    "from openood.utils import config\n",
    "from openood.datasets import get_dataloader, get_ood_dataloader\n",
    "from openood.evaluators import get_evaluator\n",
    "from openood.networks import get_network\n",
    "from torchvision.transforms import RandAugment\n",
    "from torchvision import transforms\n",
    "from openood.postprocessors import get_postprocessor"
   ]
  },
  {
   "cell_type": "code",
   "execution_count": null,
   "id": "3c1ca8de",
   "metadata": {},
   "outputs": [],
   "source": []
  },
  {
   "cell_type": "code",
   "execution_count": 26,
   "id": "48968bc2",
   "metadata": {},
   "outputs": [],
   "source": [
    "# load config files for cifar10 baseline\n",
    "# PATH=\"/home/gridsan/nhulkund/OpenOOD/\"\n",
    "# config_files = [\n",
    "#     './configs/datasets/cifar10/cifar10.yml',\n",
    "#     './configs/datasets/cifar10/cifar10_ood.yml',\n",
    "#     './configs/networks/resnet18_32x32.yml',\n",
    "#     './configs/pipelines/test/test_ood.yml',\n",
    "#     './configs/preprocessors/base_preprocessor.yml',\n",
    "#     './configs/postprocessors/mls.yml',\n",
    "#     './configs/rand_augment/no_augmentation.yml'\n",
    "# ]\n",
    "# config = config.Config(*config_files)\n",
    "# # modify config \n",
    "# #config.network.checkpoint = PATH+'/results/cifar10_resnet18_32x32_base_e100_lr0.1/best.ckpt'\n",
    "# config.network.checkpoint = PATH+'/scripts/download/results/checkpoints/cifar10_res18_acc94.30.ckpt'\n",
    "# config.network.pretrained = True\n",
    "# config.num_workers = 8\n",
    "# config.save_output = False\n",
    "# config.parse_refs()\n",
    "\n",
    "# load config files for cifar100 baseline\n",
    "PATH=\"/home/gridsan/nhulkund/OpenOOD/\"\n",
    "config_files = [\n",
    "    './configs/datasets/cifar100/cifar100.yml',\n",
    "    './configs/datasets/cifar100/cifar100_ood.yml',\n",
    "    './configs/networks/resnet18_32x32.yml',\n",
    "    './configs/pipelines/test/test_ood.yml',\n",
    "    './configs/preprocessors/base_preprocessor.yml',\n",
    "    './configs/postprocessors/mls.yml',\n",
    "    './configs/rand_augment/base.yml',\n",
    "]\n",
    "config = config.Config(*config_files)\n",
    "# modify config \n",
    "#config.network.checkpoint = PATH+'/results/cifar10_resnet18_32x32_base_e100_lr0.1/best.ckpt'\n",
    "config.network.checkpoint = PATH+'/scripts/download/results/checkpoints/cifar100_res18_acc78.20.ckpt'\n",
    "config.network.pretrained = True\n",
    "config.num_workers = 8\n",
    "config.save_output = False\n",
    "config.parse_refs()\n",
    "# load config files for cifar10 baseline\n",
    "# PATH=\"/home/gridsan/nhulkund/OpenOOD/\"\n",
    "# config_files = [\n",
    "#     './configs/datasets/imagenet/imagenet.yml',\n",
    "#     './configs/datasets/imagenet/imagenet_ood.yml',\n",
    "#     './configs/networks/resnet50.yml',\n",
    "#     './configs/pipelines/test/test_ood.yml',\n",
    "#     './configs/preprocessors/base_preprocessor.yml',\n",
    "#     './configs/postprocessors/msp.yml',\n",
    "# ]\n",
    "# config = config.Config(*config_files)\n",
    "# # modify config \n",
    "# #config.network.checkpoint = PATH+'/results/cifar10_resnet18_32x32_base_e100_lr0.1/best.ckpt'\n",
    "# config.network.checkpoint = PATH+'/scripts/download/results/checkpoints/imagenet_res50_acc76.10.pth'\n",
    "# config.network.pretrained = True\n",
    "# config.num_workers = 8\n",
    "# config.save_output = False\n",
    "# config.parse_refs()"
   ]
  },
  {
   "cell_type": "code",
   "execution_count": 27,
   "id": "a99ab6de",
   "metadata": {},
   "outputs": [
    {
     "name": "stdout",
     "output_type": "stream",
     "text": [
      "dataset:\n",
      "    image_size: 32\n",
      "    interpolation: bilinear\n",
      "    name: cifar100\n",
      "    normalization_type: cifar100\n",
      "    num_classes: 100\n",
      "    num_gpus: 1\n",
      "    num_machines: 1\n",
      "    num_workers: 8\n",
      "    pre_size: 32\n",
      "    split_names: ['train', 'val', 'test']\n",
      "    test:\n",
      "        batch_size: 200\n",
      "        data_dir: ./data/images_classic/\n",
      "        dataset_class: ImglistDataset\n",
      "        imglist_pth: ./data/benchmark_imglist/cifar100/test_cifar100.txt\n",
      "        shuffle: False\n",
      "    train:\n",
      "        batch_size: 128\n",
      "        data_dir: ./data/images_classic/\n",
      "        dataset_class: ImglistDataset\n",
      "        imglist_pth: ./data/benchmark_imglist/cifar100/train_cifar100.txt\n",
      "        shuffle: True\n",
      "    val:\n",
      "        batch_size: 200\n",
      "        data_dir: ./data/images_classic/\n",
      "        dataset_class: ImglistDataset\n",
      "        imglist_pth: ./data/benchmark_imglist/cifar100/val_cifar100.txt\n",
      "        shuffle: False\n",
      "evaluator:\n",
      "    name: ood\n",
      "exp_name: cifar100_resnet18_32x32_test_ood_ood_mls_default\n",
      "machine_rank: 0\n",
      "mark: default\n",
      "merge_option: default\n",
      "network:\n",
      "    checkpoint: /home/gridsan/nhulkund/OpenOOD//scripts/download/results/checkpoints/cifar100_res18_acc78.20.ckpt\n",
      "    name: resnet18_32x32\n",
      "    num_classes: 100\n",
      "    num_gpus: 1\n",
      "    pretrained: True\n",
      "num_gpus: 1\n",
      "num_machines: 1\n",
      "num_workers: 8\n",
      "ood_dataset:\n",
      "    batch_size: 128\n",
      "    dataset_class: ImglistDataset\n",
      "    farood:\n",
      "        datasets: ['mnist', 'svhn', 'texture', 'places365']\n",
      "        mnist:\n",
      "            data_dir: ./data/images_classic/\n",
      "            imglist_pth: ./data/benchmark_imglist/cifar100/test_mnist.txt\n",
      "        places365:\n",
      "            data_dir: ./data/images_classic/\n",
      "            imglist_pth: ./data/benchmark_imglist/cifar100/test_places365.txt\n",
      "        svhn:\n",
      "            data_dir: ./data/images_classic/\n",
      "            imglist_pth: ./data/benchmark_imglist/cifar100/test_svhn.txt\n",
      "        texture:\n",
      "            data_dir: ./data/images_classic/\n",
      "            imglist_pth: ./data/benchmark_imglist/cifar100/test_texture.txt\n",
      "    name: cifar100_ood\n",
      "    nearood:\n",
      "        cifar10:\n",
      "            data_dir: ./data/images_classic/\n",
      "            imglist_pth: ./data/benchmark_imglist/cifar100/test_cifar10.txt\n",
      "        datasets: ['cifar10', 'tin']\n",
      "        tin:\n",
      "            data_dir: ./data/images_classic/\n",
      "            imglist_pth: ./data/benchmark_imglist/cifar100/test_tin.txt\n",
      "    num_classes: 100\n",
      "    num_gpus: 1\n",
      "    num_machines: 1\n",
      "    num_workers: 8\n",
      "    shuffle: False\n",
      "    split_names: ['val', 'nearood', 'farood']\n",
      "    val:\n",
      "        data_dir: ./data/images_classic/\n",
      "        imglist_pth: ./data/benchmark_imglist/cifar100/val_cifar10.txt\n",
      "output_dir: ./results/\n",
      "pipeline:\n",
      "    name: test_ood\n",
      "postprocessor:\n",
      "    APS_mode: False\n",
      "    name: mls\n",
      "    postprocessor_args: None\n",
      "preprocessor:\n",
      "    name: base\n",
      "rand_augment:\n",
      "    augmentation: True\n",
      "    averaging_before_max: True\n",
      "    name: base\n",
      "    num_augments: 10\n",
      "    rand_m: 5\n",
      "    rand_n: 1\n",
      "recorder:\n",
      "    save_csv: True\n",
      "    save_scores: True\n",
      "save_output: False\n"
     ]
    }
   ],
   "source": [
    "print(config)"
   ]
  },
  {
   "cell_type": "code",
   "execution_count": 28,
   "id": "f41957a1",
   "metadata": {},
   "outputs": [],
   "source": [
    "#print(config)"
   ]
  },
  {
   "cell_type": "code",
   "execution_count": 29,
   "id": "35d30b38",
   "metadata": {},
   "outputs": [
    {
     "name": "stdout",
     "output_type": "stream",
     "text": [
      "Model Loading resnet18_32x32 Completed!\n"
     ]
    }
   ],
   "source": [
    "# get dataloader\n",
    "id_loader_dict = get_dataloader(config)\n",
    "ood_loader_dict = get_ood_dataloader(config)\n",
    "# init network\n",
    "net = get_network(config.network).cuda()\n",
    "# init ood evaluator\n",
    "evaluator = get_evaluator(config)\n",
    "postprocessor = get_postprocessor(config)\n",
    "# acc_metrics = evaluator.eval_acc(net, id_loader_dict['test'],\n",
    "#                                          postprocessor)\n",
    "# ood_metrics = evaluator.eval_ood(net, id_loader_dict, ood_loader_dict, postprocessor)"
   ]
  },
  {
   "cell_type": "code",
   "execution_count": 30,
   "id": "c24aeae8",
   "metadata": {},
   "outputs": [],
   "source": [
    "# print(len(id_loader_dict['test'].dataset))\n",
    "# print(len(id_loader_dict['val'].dataset))\n",
    "# print(len(id_loader_dict['train'].dataset))\n",
    "# print(len(ood_loader_dict['nearood']['tin'].dataset))"
   ]
  },
  {
   "cell_type": "code",
   "execution_count": 31,
   "id": "6a475b1f",
   "metadata": {},
   "outputs": [],
   "source": [
    "# nextiter=iter(id_loader_dict['test'])\n",
    "# batch=next(nextiter)\n",
    "# batch['data'].shape"
   ]
  },
  {
   "cell_type": "code",
   "execution_count": 32,
   "id": "ffb26c33",
   "metadata": {},
   "outputs": [],
   "source": [
    "# nextiter=iter(ood_loader_dict['nearood']['tin'])\n",
    "# batch=next(nextiter)\n",
    "# batch['data'].shape"
   ]
  },
  {
   "cell_type": "code",
   "execution_count": 33,
   "id": "29c519aa",
   "metadata": {},
   "outputs": [
    {
     "name": "stdout",
     "output_type": "stream",
     "text": [
      "Performing inference on cifar100 dataset...\n",
      "Processing nearood...\n",
      "Performing inference on cifar10 dataset...\n",
      "Computing metrics on cifar10 dataset...\n",
      "FPR@95: 73.33, AUROC: 82.67 AUPR_IN: 83.44, AUPR_OUT: 80.75\n",
      "CCR: 1.71, 11.04, 25.80, 54.49, ACC: 77.10\n",
      "──────────────────────────────────────────────────────────────────────\n",
      "Performing inference on tin dataset...\n",
      "Computing metrics on tin dataset...\n",
      "FPR@95: 66.14, AUROC: 86.05 AUPR_IN: 89.32, AUPR_OUT: 80.33\n",
      "CCR: 0.24, 12.54, 30.69, 60.13, ACC: 77.10\n",
      "──────────────────────────────────────────────────────────────────────\n",
      "Computing mean metrics...\n",
      "FPR@95: 69.73, AUROC: 84.36 AUPR_IN: 86.38, AUPR_OUT: 80.54\n",
      "CCR: 0.98, 11.79, 28.24, 57.31, ACC: 77.10\n",
      "──────────────────────────────────────────────────────────────────────\n",
      "Processing farood...\n",
      "Performing inference on mnist dataset...\n",
      "Computing metrics on mnist dataset...\n",
      "FPR@95: 74.15, AUROC: 84.54 AUPR_IN: 63.77, AUPR_OUT: 96.78\n",
      "CCR: 13.60, 23.97, 38.66, 59.32, ACC: 77.10\n",
      "──────────────────────────────────────────────────────────────────────\n",
      "Performing inference on svhn dataset...\n",
      "Computing metrics on svhn dataset...\n",
      "FPR@95: 70.54, AUROC: 84.56 AUPR_IN: 74.05, AUPR_OUT: 92.33\n",
      "CCR: 7.61, 16.01, 31.39, 57.90, ACC: 77.10\n",
      "──────────────────────────────────────────────────────────────────────\n",
      "Performing inference on texture dataset...\n",
      "Computing metrics on texture dataset...\n",
      "FPR@95: 76.81, AUROC: 81.63 AUPR_IN: 88.50, AUPR_OUT: 68.51\n",
      "CCR: 0.56, 3.16, 23.06, 54.16, ACC: 77.10\n",
      "──────────────────────────────────────────────────────────────────────\n",
      "Performing inference on places365 dataset...\n",
      "Computing metrics on places365 dataset...\n",
      "FPR@95: 73.40, AUROC: 83.62 AUPR_IN: 68.76, AUPR_OUT: 93.45\n",
      "CCR: 5.32, 11.07, 28.59, 57.20, ACC: 77.10\n",
      "──────────────────────────────────────────────────────────────────────\n",
      "Computing mean metrics...\n",
      "FPR@95: 73.72, AUROC: 83.59 AUPR_IN: 73.77, AUPR_OUT: 87.77\n",
      "CCR: 6.77, 13.55, 30.42, 57.14, ACC: 77.10\n",
      "──────────────────────────────────────────────────────────────────────\n"
     ]
    }
   ],
   "source": [
    "acc_metrics = evaluator.eval_acc(net, id_loader_dict['test'], postprocessor)\n",
    "ood_metrics = evaluator.eval_ood(net, id_loader_dict, ood_loader_dict, postprocessor)"
   ]
  },
  {
   "cell_type": "code",
   "execution_count": 34,
   "id": "fe4c69a0",
   "metadata": {},
   "outputs": [
    {
     "data": {
      "text/plain": [
       "<openood.datasets.imglist_dataset.ImglistDataset at 0x7fb8cc989730>"
      ]
     },
     "execution_count": 34,
     "metadata": {},
     "output_type": "execute_result"
    }
   ],
   "source": [
    "ood_loader_dict['nearood']['tin'].dataset"
   ]
  },
  {
   "cell_type": "markdown",
   "id": "2043b57f",
   "metadata": {},
   "source": [
    "## Feature Extraction"
   ]
  },
  {
   "cell_type": "code",
   "execution_count": 35,
   "id": "f430f169",
   "metadata": {},
   "outputs": [],
   "source": [
    "from tqdm import tqdm\n",
    "import numpy as np\n",
    "import torch\n",
    "import os.path as osp\n",
    "import os\n",
    "import cv2\n",
    "import matplotlib.pyplot as plt\n",
    "from skimage.exposure import rescale_intensity\n",
    "from skimage import img_as_ubyte\n",
    "from PIL import Image\n",
    "\n"
   ]
  },
  {
   "cell_type": "code",
   "execution_count": null,
   "id": "ab525d63",
   "metadata": {},
   "outputs": [],
   "source": []
  },
  {
   "cell_type": "code",
   "execution_count": null,
   "id": "bb435b42",
   "metadata": {},
   "outputs": [],
   "source": []
  },
  {
   "cell_type": "code",
   "execution_count": 36,
   "id": "9f72292e",
   "metadata": {},
   "outputs": [],
   "source": [
    "\n",
    "def imshow(img):\n",
    "    img = img / 2 + 0.5     # unnormalize\n",
    "    npimg = img.numpy()\n",
    "    plt.imshow(np.transpose(npimg, (1, 2, 0)))\n",
    "    plt.show()\n"
   ]
  },
  {
   "cell_type": "code",
   "execution_count": 37,
   "id": "512fe29c",
   "metadata": {},
   "outputs": [],
   "source": [
    "def save_arr_to_dir(arr, dir):\n",
    "    os.makedirs(os.path.dirname(dir), exist_ok=True)\n",
    "    with open(dir, 'wb+') as f:\n",
    "        np.save(f, arr)"
   ]
  },
  {
   "cell_type": "code",
   "execution_count": 38,
   "id": "418778f7",
   "metadata": {},
   "outputs": [],
   "source": [
    "save_root = PATH+f'/results/{config.exp_name}'\n"
   ]
  },
  {
   "cell_type": "code",
   "execution_count": null,
   "id": "62b60377",
   "metadata": {},
   "outputs": [],
   "source": []
  },
  {
   "cell_type": "code",
   "execution_count": 39,
   "id": "e2f12809",
   "metadata": {},
   "outputs": [
    {
     "name": "stdout",
     "output_type": "stream",
     "text": [
      "[]\n"
     ]
    },
    {
     "name": "stderr",
     "output_type": "stream",
     "text": [
      "Extracting reults...: 100%|██████████| 45/45 [00:02<00:00, 22.13it/s]\n"
     ]
    },
    {
     "name": "stdout",
     "output_type": "stream",
     "text": [
      "[]\n"
     ]
    },
    {
     "name": "stderr",
     "output_type": "stream",
     "text": [
      "Extracting reults...: 100%|██████████| 5/5 [00:00<00:00, 10.48it/s]\n"
     ]
    }
   ],
   "source": [
    "# save id (test & val) results\n",
    "net.eval()\n",
    "modes = ['test', 'val']\n",
    "for mode in modes:\n",
    "    dl = id_loader_dict[mode]\n",
    "    dataiter = iter(dl)\n",
    "    \n",
    "    logits_list = []\n",
    "    feature_list = []\n",
    "    label_list = []\n",
    "    id_list = []\n",
    "    count=0\n",
    "    print(id_list)\n",
    "    for i in tqdm(range(1,\n",
    "                    len(dataiter) + 1),\n",
    "                    desc='Extracting reults...',\n",
    "                    position=0,\n",
    "                    leave=True):\n",
    "        batch = next(dataiter)\n",
    "        data = batch['data'].cuda()\n",
    "        label = batch['label']\n",
    "        with torch.no_grad():\n",
    "            logits_cls, feature = net(data, return_feature=True)\n",
    "        logits_list.append(logits_cls.data.to('cpu').numpy())\n",
    "        feature_list.append(feature.data.to('cpu').numpy())\n",
    "        label_list.append(label.numpy())\n",
    "\n",
    "    logits_arr = np.concatenate(logits_list)\n",
    "    feature_arr = np.concatenate(feature_list)\n",
    "    label_arr = np.concatenate(label_list)\n",
    "    \n",
    "    save_arr_to_dir(logits_arr, osp.join(save_root, 'id', f'{mode}_logits.npy'))\n",
    "    save_arr_to_dir(feature_arr, osp.join(save_root, 'id', f'{mode}_feature.npy'))\n",
    "    save_arr_to_dir(label_arr, osp.join(save_root, 'id', f'{mode}_labels.npy'))"
   ]
  },
  {
   "cell_type": "code",
   "execution_count": null,
   "id": "8886e2ef",
   "metadata": {},
   "outputs": [],
   "source": []
  },
  {
   "cell_type": "code",
   "execution_count": null,
   "id": "41886d06",
   "metadata": {},
   "outputs": [],
   "source": []
  },
  {
   "cell_type": "code",
   "execution_count": 40,
   "id": "5cded214",
   "metadata": {},
   "outputs": [
    {
     "name": "stderr",
     "output_type": "stream",
     "text": [
      "Extracting reults...: 100%|██████████| 79/79 [00:01<00:00, 60.40it/s]\n",
      "Extracting reults...: 100%|██████████| 59/59 [00:01<00:00, 38.27it/s]\n",
      "Extracting reults...: 100%|██████████| 547/547 [00:12<00:00, 43.75it/s]\n",
      "Extracting reults...: 100%|██████████| 204/204 [00:06<00:00, 33.81it/s]\n",
      "Extracting reults...: 100%|██████████| 45/45 [00:04<00:00,  9.58it/s]\n",
      "Extracting reults...: 100%|██████████| 264/264 [00:08<00:00, 30.06it/s]\n"
     ]
    }
   ],
   "source": [
    "# save ood results\n",
    "net.eval()\n",
    "ood_splits = ['nearood', 'farood']\n",
    "for ood_split in ood_splits:\n",
    "    for dataset_name, ood_dl in ood_loader_dict[ood_split].items():\n",
    "        dataiter = iter(ood_dl)\n",
    "    \n",
    "        logits_list = []\n",
    "        feature_list = []\n",
    "        label_list = []\n",
    "\n",
    "        for i in tqdm(range(1,\n",
    "                        len(dataiter) + 1),\n",
    "                        desc='Extracting reults...',\n",
    "                        position=0,\n",
    "                        leave=True):\n",
    "            batch = next(dataiter)\n",
    "            data = batch['data'].cuda()\n",
    "            label = batch['label']\n",
    "\n",
    "            with torch.no_grad():\n",
    "                logits_cls, feature = net(data, return_feature=True)\n",
    "            logits_list.append(logits_cls.data.to('cpu').numpy())\n",
    "            feature_list.append(feature.data.to('cpu').numpy())\n",
    "            label_list.append(label.numpy())\n",
    "\n",
    "        logits_arr = np.concatenate(logits_list)\n",
    "        feature_arr = np.concatenate(feature_list)\n",
    "        label_arr = np.concatenate(label_list)\n",
    "\n",
    "        save_arr_to_dir(logits_arr, osp.join(save_root, ood_split, f'{dataset_name}_logits.npy'))\n",
    "        save_arr_to_dir(feature_arr, osp.join(save_root, ood_split, f'{dataset_name}_feature.npy'))\n",
    "        save_arr_to_dir(label_arr, osp.join(save_root, ood_split, f'{dataset_name}_labels.npy'))"
   ]
  },
  {
   "cell_type": "markdown",
   "id": "0b69a9ed",
   "metadata": {},
   "source": [
    "## MSP Evaluation"
   ]
  },
  {
   "cell_type": "code",
   "execution_count": 41,
   "id": "db3f705b",
   "metadata": {},
   "outputs": [],
   "source": [
    "# # build msp method (pass in pre-saved logits)\n",
    "# def msp_postprocess(logits):\n",
    "#     score = torch.softmax(logits, dim=1)\n",
    "#     conf, pred = torch.max(score, dim=1)\n",
    "#     return pred, conf\n",
    "\n",
    "# def msp_aug_postprocess(logits):\n",
    "#     score = torch.softmax(logits, dim=1)\n",
    "#     if score.shape[0] % 11 == 0: \n",
    "#         first_dim=int(score.shaape[0]/11)\n",
    "#         second_dim=11\n",
    "#     else:\n",
    "#         print(score.shape)\n",
    "#     score_reshaped=score.numpy().reshape(first_dim,second_dim,10)\n",
    "#     score_averaged=torch.Tensor(np.mean(score_reshaped,axis=1))\n",
    "#     conf, pred = torch.max(score_averaged, dim=1)\n",
    "#     return pred, conf\n",
    "from openood.postprocessors.odin_postprocessor import ODINPostprocessor"
   ]
  },
  {
   "cell_type": "code",
   "execution_count": 42,
   "id": "a1cac34c",
   "metadata": {},
   "outputs": [],
   "source": [
    "# load logits, feature, label for this benchmark\n",
    "results = dict()\n",
    "# for id\n",
    "modes = ['val', 'test']\n",
    "results['id'] = dict()\n",
    "for mode in modes:\n",
    "    results['id'][mode] = dict()\n",
    "    results['id'][mode]['feature'] = np.load(osp.join(save_root, 'id', f'{mode}_feature.npy'))\n",
    "    results['id'][mode]['logits'] = np.load(osp.join(save_root, 'id', f'{mode}_logits.npy'))\n",
    "    results['id'][mode]['labels'] = np.load(osp.join(save_root, 'id', f'{mode}_labels.npy'))\n",
    "\n",
    "# for ood\n",
    "split_types = ['nearood', 'farood']\n",
    "for split_type in split_types:\n",
    "    results[split_type] = dict()\n",
    "    dataset_names = config['ood_dataset'][split_type].datasets\n",
    "    for dataset_name in dataset_names:\n",
    "        results[split_type][dataset_name] = dict()\n",
    "        results[split_type][dataset_name]['feature'] = np.load(osp.join(save_root, split_type, f'{dataset_name}_feature.npy'))\n",
    "        results[split_type][dataset_name]['logits'] = np.load(osp.join(save_root, split_type, f'{dataset_name}_logits.npy'))\n",
    "        results[split_type][dataset_name]['labels'] = np.load(osp.join(save_root, split_type, f'{dataset_name}_labels.npy'))\n",
    "        \n"
   ]
  },
  {
   "cell_type": "code",
   "execution_count": 43,
   "id": "c6574e41",
   "metadata": {},
   "outputs": [],
   "source": [
    "# print(results['nearood']['cifar10']['logits'].shape)"
   ]
  },
  {
   "cell_type": "code",
   "execution_count": 44,
   "id": "79697d8c",
   "metadata": {},
   "outputs": [],
   "source": [
    "def print_nested_dict(dict_obj, indent = 0):\n",
    "    ''' Pretty Print nested dictionary with given indent level  \n",
    "    '''\n",
    "    # Iterate over all key-value pairs of dictionary\n",
    "    for key, value in dict_obj.items():\n",
    "        # If value is dict type, then print nested dict \n",
    "        if isinstance(value, dict):\n",
    "            print(' ' * indent, key, ':', '{')\n",
    "            print_nested_dict(value, indent + 2)\n",
    "            print(' ' * indent, '}')\n",
    "        else:\n",
    "            print(' ' * indent, key, ':', value.shape)\n"
   ]
  },
  {
   "cell_type": "code",
   "execution_count": 45,
   "id": "2dfe3614",
   "metadata": {},
   "outputs": [
    {
     "name": "stdout",
     "output_type": "stream",
     "text": [
      " id : {\n",
      "   val : {\n",
      "     feature : (1000, 512)\n",
      "     logits : (1000, 100)\n",
      "     labels : (1000,)\n",
      "   }\n",
      "   test : {\n",
      "     feature : (9000, 512)\n",
      "     logits : (9000, 100)\n",
      "     labels : (9000,)\n",
      "   }\n",
      " }\n",
      " nearood : {\n",
      "   cifar10 : {\n",
      "     feature : (10000, 512)\n",
      "     logits : (10000, 100)\n",
      "     labels : (10000,)\n",
      "   }\n",
      "   tin : {\n",
      "     feature : (7498, 512)\n",
      "     logits : (7498, 100)\n",
      "     labels : (7498,)\n",
      "   }\n",
      " }\n",
      " farood : {\n",
      "   mnist : {\n",
      "     feature : (70000, 512)\n",
      "     logits : (70000, 100)\n",
      "     labels : (70000,)\n",
      "   }\n",
      "   svhn : {\n",
      "     feature : (26032, 512)\n",
      "     logits : (26032, 100)\n",
      "     labels : (26032,)\n",
      "   }\n",
      "   texture : {\n",
      "     feature : (5640, 512)\n",
      "     logits : (5640, 100)\n",
      "     labels : (5640,)\n",
      "   }\n",
      "   places365 : {\n",
      "     feature : (33773, 512)\n",
      "     logits : (33773, 100)\n",
      "     labels : (33773,)\n",
      "   }\n",
      " }\n"
     ]
    }
   ],
   "source": [
    "print_nested_dict(results)"
   ]
  },
  {
   "cell_type": "code",
   "execution_count": 46,
   "id": "a3af6815",
   "metadata": {},
   "outputs": [
    {
     "ename": "AttributeError",
     "evalue": "'NoneType' object has no attribute 'temperature'",
     "output_type": "error",
     "traceback": [
      "\u001b[0;31m---------------------------------------------------------------------------\u001b[0m",
      "\u001b[0;31mAttributeError\u001b[0m                            Traceback (most recent call last)",
      "Input \u001b[0;32mIn [46]\u001b[0m, in \u001b[0;36m<cell line: 2>\u001b[0;34m()\u001b[0m\n\u001b[1;32m      1\u001b[0m \u001b[38;5;66;03m# get pred, conf, gt from MSP postprocessor (can change to your custom_postprocessor here)\u001b[39;00m\n\u001b[0;32m----> 2\u001b[0m postprocessor\u001b[38;5;241m=\u001b[39m\u001b[43mODINPostprocessor\u001b[49m\u001b[43m(\u001b[49m\u001b[43mconfig\u001b[49m\u001b[43m)\u001b[49m\n\u001b[1;32m      3\u001b[0m postprocess_results \u001b[38;5;241m=\u001b[39m \u001b[38;5;28mdict\u001b[39m()\n\u001b[1;32m      4\u001b[0m \u001b[38;5;66;03m# id\u001b[39;00m\n",
      "File \u001b[0;32m~/OpenOOD/openood/postprocessors/odin_postprocessor.py:14\u001b[0m, in \u001b[0;36mODINPostprocessor.__init__\u001b[0;34m(self, config)\u001b[0m\n\u001b[1;32m     11\u001b[0m \u001b[38;5;28msuper\u001b[39m()\u001b[38;5;241m.\u001b[39m\u001b[38;5;21m__init__\u001b[39m(config)\n\u001b[1;32m     12\u001b[0m \u001b[38;5;28mself\u001b[39m\u001b[38;5;241m.\u001b[39margs \u001b[38;5;241m=\u001b[39m \u001b[38;5;28mself\u001b[39m\u001b[38;5;241m.\u001b[39mconfig\u001b[38;5;241m.\u001b[39mpostprocessor\u001b[38;5;241m.\u001b[39mpostprocessor_args\n\u001b[0;32m---> 14\u001b[0m \u001b[38;5;28mself\u001b[39m\u001b[38;5;241m.\u001b[39mtemperature \u001b[38;5;241m=\u001b[39m \u001b[38;5;28;43mself\u001b[39;49m\u001b[38;5;241;43m.\u001b[39;49m\u001b[43margs\u001b[49m\u001b[38;5;241;43m.\u001b[39;49m\u001b[43mtemperature\u001b[49m\n\u001b[1;32m     15\u001b[0m \u001b[38;5;28mself\u001b[39m\u001b[38;5;241m.\u001b[39mnoise \u001b[38;5;241m=\u001b[39m \u001b[38;5;28mself\u001b[39m\u001b[38;5;241m.\u001b[39margs\u001b[38;5;241m.\u001b[39mnoise\n\u001b[1;32m     16\u001b[0m \u001b[38;5;28mself\u001b[39m\u001b[38;5;241m.\u001b[39margs_dict \u001b[38;5;241m=\u001b[39m \u001b[38;5;28mself\u001b[39m\u001b[38;5;241m.\u001b[39mconfig\u001b[38;5;241m.\u001b[39mpostprocessor\u001b[38;5;241m.\u001b[39mpostprocessor_sweep\n",
      "\u001b[0;31mAttributeError\u001b[0m: 'NoneType' object has no attribute 'temperature'"
     ]
    }
   ],
   "source": [
    "# get pred, conf, gt from MSP postprocessor (can change to your custom_postprocessor here)\n",
    "postprocessor=ODINPostprocessor(config)\n",
    "postprocess_results = dict()\n",
    "# id\n",
    "modes = ['val', 'test']\n",
    "postprocess_results['id'] = dict()\n",
    "for mode in modes:\n",
    "    pred, conf = postprocessor.postprocess(net=net,data=torch.from_numpy(results['id'][mode]['logits']))\n",
    "    pred, conf = pred.numpy(), conf.numpy()\n",
    "    gt = results['id'][mode]['labels']\n",
    "    postprocess_results['id'][mode] = [pred, conf, gt]\n",
    "\n",
    "# ood\n",
    "split_types = ['nearood', 'farood']\n",
    "for split_type in split_types:\n",
    "    postprocess_results[split_type] = dict()\n",
    "    dataset_names = config['ood_dataset'][split_type].datasets\n",
    "    for dataset_name in dataset_names:\n",
    "        pred, conf = postprocessor.postprocess(net=net,data=torch.from_numpy(results[split_type][dataset_name]['logits']))\n",
    "        pred, conf = pred.numpy(), conf.numpy()\n",
    "        gt = results[split_type][dataset_name]['labels']\n",
    "        gt = -1 * np.ones_like(gt)   # hard set to -1 here\n",
    "        postprocess_results[split_type][dataset_name] = [pred, conf, gt]"
   ]
  },
  {
   "cell_type": "code",
   "execution_count": null,
   "id": "41e3dac6",
   "metadata": {},
   "outputs": [],
   "source": [
    "def print_all_metrics(metrics):\n",
    "    [fpr, auroc, aupr_in, aupr_out,\n",
    "        ccr_4, ccr_3, ccr_2, ccr_1, accuracy] \\\n",
    "        = metrics\n",
    "    print('FPR@95: {:.2f}, AUROC: {:.2f}'.format(100 * fpr, 100 * auroc),\n",
    "            end=' ',\n",
    "            flush=True)\n",
    "    print('AUPR_IN: {:.2f}, AUPR_OUT: {:.2f}'.format(\n",
    "        100 * aupr_in, 100 * aupr_out),\n",
    "            flush=True)\n",
    "    print('CCR: {:.2f}, {:.2f}, {:.2f}, {:.2f},'.format(\n",
    "        ccr_4 * 100, ccr_3 * 100, ccr_2 * 100, ccr_1 * 100),\n",
    "            end=' ',\n",
    "            flush=True)\n",
    "    print('ACC: {:.2f}'.format(accuracy * 100), flush=True)\n",
    "    print(u'\\u2500' * 70, flush=True)   "
   ]
  },
  {
   "cell_type": "code",
   "execution_count": null,
   "id": "b16e6f5b",
   "metadata": {},
   "outputs": [],
   "source": [
    "from openood.evaluators.metrics import compute_all_metrics\n",
    "def eval_ood(postprocess_results):\n",
    "    [id_pred, id_conf, id_gt] = postprocess_results['id']['test']\n",
    "    split_types = ['nearood', 'farood']\n",
    "\n",
    "    for split_type in split_types:\n",
    "        metrics_list = []\n",
    "        print(f\"Performing evaluation on {split_type} datasets...\")\n",
    "        dataset_names = config['ood_dataset'][split_type].datasets\n",
    "        \n",
    "        for dataset_name in dataset_names:\n",
    "            [ood_pred, ood_conf, ood_gt] = postprocess_results[split_type][dataset_name]\n",
    "\n",
    "            pred = np.concatenate([id_pred, ood_pred])\n",
    "            conf = np.concatenate([id_conf, ood_conf])\n",
    "            label = np.concatenate([id_gt, ood_gt])\n",
    "            print(f'Computing metrics on {dataset_name} dataset...')\n",
    "\n",
    "            ood_metrics = compute_all_metrics(conf, label, pred)\n",
    "            print_all_metrics(ood_metrics)\n",
    "            metrics_list.append(ood_metrics)\n",
    "        print('Computing mean metrics...', flush=True)\n",
    "        metrics_list = np.array(metrics_list)\n",
    "        metrics_mean = np.mean(metrics_list, axis=0)   \n",
    "        print_all_metrics(metrics_mean)\n",
    "\n",
    " "
   ]
  },
  {
   "cell_type": "code",
   "execution_count": null,
   "id": "335686fe",
   "metadata": {},
   "outputs": [],
   "source": [
    "print(\"THIS IS NON RAND AUGMENT\")\n",
    "eval_ood(postprocess_results)"
   ]
  },
  {
   "cell_type": "code",
   "execution_count": null,
   "id": "f2ce6263",
   "metadata": {},
   "outputs": [],
   "source": []
  }
 ],
 "metadata": {
  "kernelspec": {
   "display_name": "Python 3 (ipykernel)",
   "language": "python",
   "name": "python3"
  },
  "language_info": {
   "codemirror_mode": {
    "name": "ipython",
    "version": 3
   },
   "file_extension": ".py",
   "mimetype": "text/x-python",
   "name": "python",
   "nbconvert_exporter": "python",
   "pygments_lexer": "ipython3",
   "version": "3.8.13"
  },
  "latex_envs": {
   "LaTeX_envs_menu_present": true,
   "autoclose": false,
   "autocomplete": true,
   "bibliofile": "biblio.bib",
   "cite_by": "apalike",
   "current_citInitial": 1,
   "eqLabelWithNumbers": true,
   "eqNumInitial": 1,
   "hotkeys": {
    "equation": "Ctrl-E",
    "itemize": "Ctrl-I"
   },
   "labels_anchors": false,
   "latex_user_defs": false,
   "report_style_numbering": false,
   "user_envs_cfg": false
  },
  "toc": {
   "base_numbering": 1,
   "nav_menu": {},
   "number_sections": true,
   "sideBar": true,
   "skip_h1_title": false,
   "title_cell": "Table of Contents",
   "title_sidebar": "Contents",
   "toc_cell": false,
   "toc_position": {},
   "toc_section_display": true,
   "toc_window_display": false
  },
  "vscode": {
   "interpreter": {
    "hash": "31f2aee4e71d21fbe5cf8b01ff0e069b9275f58929596ceb00d14d90e3e16cd6"
   }
  }
 },
 "nbformat": 4,
 "nbformat_minor": 5
}
