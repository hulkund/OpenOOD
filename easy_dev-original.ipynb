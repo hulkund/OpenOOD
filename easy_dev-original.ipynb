{
 "cells": [
  {
   "cell_type": "markdown",
   "id": "f09246e8",
   "metadata": {},
   "source": [
    "# Easy Dev for Post-hoc OOD Detectors\n",
    "\n",
    "This notebook integrates some simple post-hoc OOD detection methods.\n",
    "\n",
    "We choose ImageNet-1K as in-distribution (ID) and load a pretrained vision transformer (ViT)."
   ]
  },
  {
   "cell_type": "code",
   "execution_count": 1,
   "id": "4dc297c1",
   "metadata": {},
   "outputs": [],
   "source": [
    "%load_ext autoreload\n",
    "%autoreload 2"
   ]
  },
  {
   "cell_type": "markdown",
   "id": "8b218878",
   "metadata": {},
   "source": [
    "## Load Models and Dataset"
   ]
  },
  {
   "cell_type": "code",
   "execution_count": 2,
   "id": "f155277c",
   "metadata": {},
   "outputs": [
    {
     "name": "stderr",
     "output_type": "stream",
     "text": [
      "/state/partition1/llgrid/pkg/anaconda/anaconda3-2022a/lib/python3.8/site-packages/torchvision/io/image.py:13: UserWarning: Failed to load image Python extension: libtorch_cuda_cu.so: cannot open shared object file: No such file or directory\n",
      "  warn(f\"Failed to load image Python extension: {e}\")\n",
      "/home/gridsan/nhulkund/.local/lib/python3.8/site-packages/mmcv/cnn/bricks/transformer.py:32: UserWarning: Fail to import ``MultiScaleDeformableAttention`` from ``mmcv.ops.multi_scale_deform_attn``, You should install ``mmcv-full`` if you need this module. \n",
      "  warnings.warn('Fail to import ``MultiScaleDeformableAttention`` from '\n"
     ]
    }
   ],
   "source": [
    "from openood.utils import config\n",
    "from openood.datasets import get_dataloader, get_ood_dataloader\n",
    "from openood.evaluators import get_evaluator\n",
    "from openood.networks import get_network\n",
    "from torchvision.transforms import RandAugment\n",
    "from torchvision import transforms"
   ]
  },
  {
   "cell_type": "code",
   "execution_count": null,
   "id": "3c1ca8de",
   "metadata": {},
   "outputs": [],
   "source": []
  },
  {
   "cell_type": "code",
   "execution_count": 3,
   "id": "48968bc2",
   "metadata": {},
   "outputs": [],
   "source": [
    "# # load config files for cifar10 baseline\n",
    "# PATH=\"/home/gridsan/nhulkund/OpenOOD/\"\n",
    "# config_files = [\n",
    "#     './configs/datasets/cifar10/cifar10.yml',\n",
    "#     './configs/datasets/cifar10/cifar10_ood.yml',\n",
    "#     './configs/networks/resnet18_32x32.yml',\n",
    "#     './configs/pipelines/test/test_ood.yml',\n",
    "#     './configs/preprocessors/base_preprocessor.yml',\n",
    "#     './configs/postprocessors/msp.yml',\n",
    "# ]\n",
    "# config = config.Config(*config_files)\n",
    "# # modify config \n",
    "# #config.network.checkpoint = PATH+'/results/cifar10_resnet18_32x32_base_e100_lr0.1/best.ckpt'\n",
    "# config.network.checkpoint = PATH+'/scripts/download/results/checkpoints/cifar10_res18_acc94.30.ckpt'\n",
    "# config.network.pretrained = True\n",
    "# config.num_workers = 8\n",
    "# config.save_output = False\n",
    "# config.parse_refs()\n",
    "\n",
    "# load config files for cifar100 baseline\n",
    "# PATH=\"/home/gridsan/nhulkund/OpenOOD/\"\n",
    "# config_files = [\n",
    "#     './configs/datasets/cifar100/cifar100.yml',\n",
    "#     './configs/datasets/cifar100/cifar100_ood.yml',\n",
    "#     './configs/networks/resnet18_32x32.yml',\n",
    "#     './configs/pipelines/test/test_ood.yml',\n",
    "#     './configs/preprocessors/base_preprocessor.yml',\n",
    "#     './configs/postprocessors/msp.yml',\n",
    "# ]\n",
    "# config = config.Config(*config_files)\n",
    "# # modify config \n",
    "# #config.network.checkpoint = PATH+'/results/cifar10_resnet18_32x32_base_e100_lr0.1/best.ckpt'\n",
    "# config.network.checkpoint = PATH+'/scripts/download/results/checkpoints/cifar100_res18_acc78.20.ckpt'\n",
    "# config.network.pretrained = True\n",
    "# config.num_workers = 8\n",
    "# config.save_output = False\n",
    "# config.parse_refs()\n",
    "# load config files for cifar10 baseline\n",
    "PATH=\"/home/gridsan/nhulkund/OpenOOD/\"\n",
    "config_files = [\n",
    "    './configs/datasets/imagenet/imagenet.yml',\n",
    "    './configs/datasets/imagenet/imagenet_ood.yml',\n",
    "    './configs/networks/resnet50.yml',\n",
    "    './configs/pipelines/test/test_ood.yml',\n",
    "    './configs/preprocessors/base_preprocessor.yml',\n",
    "    './configs/postprocessors/msp.yml',\n",
    "]\n",
    "config = config.Config(*config_files)\n",
    "# modify config \n",
    "#config.network.checkpoint = PATH+'/results/cifar10_resnet18_32x32_base_e100_lr0.1/best.ckpt'\n",
    "config.network.checkpoint = PATH+'/scripts/download/results/checkpoints/imagenet_res50_acc76.10.pth'\n",
    "config.network.pretrained = True\n",
    "config.num_workers = 8\n",
    "config.save_output = False\n",
    "config.parse_refs()"
   ]
  },
  {
   "cell_type": "code",
   "execution_count": 4,
   "id": "a99ab6de",
   "metadata": {},
   "outputs": [
    {
     "data": {
      "text/plain": [
       "checkpoint: /home/gridsan/nhulkund/OpenOOD//scripts/download/results/checkpoints/imagenet_res50_acc76.10.pth\n",
       "image_size: 224\n",
       "name: resnet50\n",
       "num_classes: 1000\n",
       "num_gpus: 1\n",
       "pretrained: True"
      ]
     },
     "execution_count": 4,
     "metadata": {},
     "output_type": "execute_result"
    }
   ],
   "source": [
    "config.network"
   ]
  },
  {
   "cell_type": "code",
   "execution_count": 2,
   "id": "f41957a1",
   "metadata": {},
   "outputs": [],
   "source": [
    "#print(config)"
   ]
  },
  {
   "cell_type": "code",
   "execution_count": 6,
   "id": "35d30b38",
   "metadata": {},
   "outputs": [
    {
     "name": "stdout",
     "output_type": "stream",
     "text": [
      "Model Loading resnet50 Completed!\n"
     ]
    }
   ],
   "source": [
    "# get dataloader\n",
    "id_loader_dict = get_dataloader(config)\n",
    "ood_loader_dict = get_ood_dataloader(config)\n",
    "# init network\n",
    "net = get_network(config.network).cuda()\n",
    "# init ood evaluator\n",
    "evaluator = get_evaluator(config)"
   ]
  },
  {
   "cell_type": "markdown",
   "id": "2043b57f",
   "metadata": {},
   "source": [
    "## Feature Extraction"
   ]
  },
  {
   "cell_type": "code",
   "execution_count": 7,
   "id": "f430f169",
   "metadata": {},
   "outputs": [],
   "source": [
    "from tqdm import tqdm\n",
    "import numpy as np\n",
    "import torch\n",
    "import os.path as osp\n",
    "import os\n",
    "import cv2\n",
    "import matplotlib.pyplot as plt\n",
    "from skimage.exposure import rescale_intensity\n",
    "from skimage import img_as_ubyte\n",
    "from PIL import Image\n",
    "\n"
   ]
  },
  {
   "cell_type": "code",
   "execution_count": null,
   "id": "ab525d63",
   "metadata": {},
   "outputs": [],
   "source": []
  },
  {
   "cell_type": "code",
   "execution_count": null,
   "id": "bb435b42",
   "metadata": {},
   "outputs": [],
   "source": []
  },
  {
   "cell_type": "code",
   "execution_count": 8,
   "id": "9f72292e",
   "metadata": {},
   "outputs": [],
   "source": [
    "\n",
    "def imshow(img):\n",
    "    img = img / 2 + 0.5     # unnormalize\n",
    "    npimg = img.numpy()\n",
    "    plt.imshow(np.transpose(npimg, (1, 2, 0)))\n",
    "    plt.show()\n"
   ]
  },
  {
   "cell_type": "code",
   "execution_count": 9,
   "id": "512fe29c",
   "metadata": {},
   "outputs": [],
   "source": [
    "def save_arr_to_dir(arr, dir):\n",
    "    os.makedirs(os.path.dirname(dir), exist_ok=True)\n",
    "    with open(dir, 'wb+') as f:\n",
    "        np.save(f, arr)"
   ]
  },
  {
   "cell_type": "code",
   "execution_count": 10,
   "id": "418778f7",
   "metadata": {},
   "outputs": [],
   "source": [
    "save_root = PATH+f'/results/{config.exp_name}'\n"
   ]
  },
  {
   "cell_type": "code",
   "execution_count": null,
   "id": "62b60377",
   "metadata": {},
   "outputs": [],
   "source": []
  },
  {
   "cell_type": "code",
   "execution_count": 11,
   "id": "e2f12809",
   "metadata": {},
   "outputs": [
    {
     "name": "stdout",
     "output_type": "stream",
     "text": [
      "[]\n"
     ]
    },
    {
     "name": "stderr",
     "output_type": "stream",
     "text": [
      "Extracting reults...: 100%|██████████| 1407/1407 [01:03<00:00, 22.30it/s]\n"
     ]
    },
    {
     "name": "stdout",
     "output_type": "stream",
     "text": [
      "[]\n"
     ]
    },
    {
     "name": "stderr",
     "output_type": "stream",
     "text": [
      "Extracting reults...: 100%|██████████| 157/157 [00:07<00:00, 22.24it/s]\n"
     ]
    }
   ],
   "source": [
    "# save id (test & val) results\n",
    "net.eval()\n",
    "modes = ['test', 'val']\n",
    "for mode in modes:\n",
    "    dl = id_loader_dict[mode]\n",
    "    dataiter = iter(dl)\n",
    "    \n",
    "    logits_list = []\n",
    "    feature_list = []\n",
    "    label_list = []\n",
    "    id_list = []\n",
    "    count=0\n",
    "    print(id_list)\n",
    "    for i in tqdm(range(1,\n",
    "                    len(dataiter) + 1),\n",
    "                    desc='Extracting reults...',\n",
    "                    position=0,\n",
    "                    leave=True):\n",
    "        batch = next(dataiter)\n",
    "        data = batch['data'].cuda()\n",
    "        label = batch['label']\n",
    "        with torch.no_grad():\n",
    "            logits_cls, feature = net(data, return_feature=True)\n",
    "        logits_list.append(logits_cls.data.to('cpu').numpy())\n",
    "        feature_list.append(feature.data.to('cpu').numpy())\n",
    "        label_list.append(label.numpy())\n",
    "\n",
    "    logits_arr = np.concatenate(logits_list)\n",
    "    feature_arr = np.concatenate(feature_list)\n",
    "    label_arr = np.concatenate(label_list)\n",
    "    \n",
    "    save_arr_to_dir(logits_arr, osp.join(save_root, 'id', f'{mode}_logits.npy'))\n",
    "    save_arr_to_dir(feature_arr, osp.join(save_root, 'id', f'{mode}_feature.npy'))\n",
    "    save_arr_to_dir(label_arr, osp.join(save_root, 'id', f'{mode}_labels.npy'))"
   ]
  },
  {
   "cell_type": "code",
   "execution_count": null,
   "id": "8886e2ef",
   "metadata": {},
   "outputs": [],
   "source": []
  },
  {
   "cell_type": "code",
   "execution_count": null,
   "id": "41886d06",
   "metadata": {},
   "outputs": [],
   "source": []
  },
  {
   "cell_type": "code",
   "execution_count": 12,
   "id": "5cded214",
   "metadata": {},
   "outputs": [
    {
     "name": "stderr",
     "output_type": "stream",
     "text": [
      "Extracting reults...: 100%|██████████| 313/313 [00:13<00:00, 22.43it/s]\n",
      "Extracting reults...: 100%|██████████| 313/313 [00:19<00:00, 15.98it/s]\n",
      "Extracting reults...: 100%|██████████| 496/496 [00:22<00:00, 22.17it/s]\n",
      "Extracting reults...: 100%|██████████| 63/63 [00:03<00:00, 20.88it/s]\n",
      "Extracting reults...: 100%|██████████| 162/162 [00:07<00:00, 21.99it/s]\n",
      "Extracting reults...: 100%|██████████| 282/282 [00:12<00:00, 22.71it/s]\n"
     ]
    }
   ],
   "source": [
    "# save ood results\n",
    "net.eval()\n",
    "ood_splits = ['nearood', 'farood']\n",
    "for ood_split in ood_splits:\n",
    "    for dataset_name, ood_dl in ood_loader_dict[ood_split].items():\n",
    "        dataiter = iter(ood_dl)\n",
    "    \n",
    "        logits_list = []\n",
    "        feature_list = []\n",
    "        label_list = []\n",
    "\n",
    "        for i in tqdm(range(1,\n",
    "                        len(dataiter) + 1),\n",
    "                        desc='Extracting reults...',\n",
    "                        position=0,\n",
    "                        leave=True):\n",
    "            batch = next(dataiter)\n",
    "            data = batch['data'].cuda()\n",
    "            label = batch['label']\n",
    "\n",
    "            with torch.no_grad():\n",
    "                logits_cls, feature = net(data, return_feature=True)\n",
    "            logits_list.append(logits_cls.data.to('cpu').numpy())\n",
    "            feature_list.append(feature.data.to('cpu').numpy())\n",
    "            label_list.append(label.numpy())\n",
    "\n",
    "        logits_arr = np.concatenate(logits_list)\n",
    "        feature_arr = np.concatenate(feature_list)\n",
    "        label_arr = np.concatenate(label_list)\n",
    "\n",
    "        save_arr_to_dir(logits_arr, osp.join(save_root, ood_split, f'{dataset_name}_logits.npy'))\n",
    "        save_arr_to_dir(feature_arr, osp.join(save_root, ood_split, f'{dataset_name}_feature.npy'))\n",
    "        save_arr_to_dir(label_arr, osp.join(save_root, ood_split, f'{dataset_name}_labels.npy'))"
   ]
  },
  {
   "cell_type": "markdown",
   "id": "0b69a9ed",
   "metadata": {},
   "source": [
    "## MSP Evaluation"
   ]
  },
  {
   "cell_type": "code",
   "execution_count": 13,
   "id": "db3f705b",
   "metadata": {},
   "outputs": [],
   "source": [
    "# build msp method (pass in pre-saved logits)\n",
    "def msp_postprocess(logits):\n",
    "    score = torch.softmax(logits, dim=1)\n",
    "    conf, pred = torch.max(score, dim=1)\n",
    "    return pred, conf\n",
    "\n",
    "def msp_aug_postprocess(logits):\n",
    "    score = torch.softmax(logits, dim=1)\n",
    "    if score.shape[0] % 11 == 0: \n",
    "        first_dim=int(score.shape[0]/11)\n",
    "        second_dim=11\n",
    "    else:\n",
    "        print(score.shape)\n",
    "    score_reshaped=score.numpy().reshape(first_dim,second_dim,10)\n",
    "    score_averaged=torch.Tensor(np.mean(score_reshaped,axis=1))\n",
    "    conf, pred = torch.max(score_averaged, dim=1)\n",
    "    return pred, conf"
   ]
  },
  {
   "cell_type": "code",
   "execution_count": 14,
   "id": "a1cac34c",
   "metadata": {},
   "outputs": [],
   "source": [
    "# load logits, feature, label for this benchmark\n",
    "results = dict()\n",
    "# for id\n",
    "modes = ['val', 'test']\n",
    "results['id'] = dict()\n",
    "for mode in modes:\n",
    "    results['id'][mode] = dict()\n",
    "    results['id'][mode]['feature'] = np.load(osp.join(save_root, 'id', f'{mode}_feature.npy'))\n",
    "    results['id'][mode]['logits'] = np.load(osp.join(save_root, 'id', f'{mode}_logits.npy'))\n",
    "    results['id'][mode]['labels'] = np.load(osp.join(save_root, 'id', f'{mode}_labels.npy'))\n",
    "\n",
    "# for ood\n",
    "split_types = ['nearood', 'farood']\n",
    "for split_type in split_types:\n",
    "    results[split_type] = dict()\n",
    "    dataset_names = config['ood_dataset'][split_type].datasets\n",
    "    for dataset_name in dataset_names:\n",
    "        results[split_type][dataset_name] = dict()\n",
    "        results[split_type][dataset_name]['feature'] = np.load(osp.join(save_root, split_type, f'{dataset_name}_feature.npy'))\n",
    "        results[split_type][dataset_name]['logits'] = np.load(osp.join(save_root, split_type, f'{dataset_name}_logits.npy'))\n",
    "        results[split_type][dataset_name]['labels'] = np.load(osp.join(save_root, split_type, f'{dataset_name}_labels.npy'))\n",
    "        \n"
   ]
  },
  {
   "cell_type": "code",
   "execution_count": 16,
   "id": "c6574e41",
   "metadata": {},
   "outputs": [],
   "source": [
    "# print(results['nearood']['cifar10']['logits'].shape)"
   ]
  },
  {
   "cell_type": "code",
   "execution_count": 17,
   "id": "79697d8c",
   "metadata": {},
   "outputs": [],
   "source": [
    "def print_nested_dict(dict_obj, indent = 0):\n",
    "    ''' Pretty Print nested dictionary with given indent level  \n",
    "    '''\n",
    "    # Iterate over all key-value pairs of dictionary\n",
    "    for key, value in dict_obj.items():\n",
    "        # If value is dict type, then print nested dict \n",
    "        if isinstance(value, dict):\n",
    "            print(' ' * indent, key, ':', '{')\n",
    "            print_nested_dict(value, indent + 2)\n",
    "            print(' ' * indent, '}')\n",
    "        else:\n",
    "            print(' ' * indent, key, ':', value.shape)\n"
   ]
  },
  {
   "cell_type": "code",
   "execution_count": 18,
   "id": "2dfe3614",
   "metadata": {},
   "outputs": [
    {
     "name": "stdout",
     "output_type": "stream",
     "text": [
      " id : {\n",
      "   val : {\n",
      "     feature : (5000, 2048)\n",
      "     logits : (5000, 1000)\n",
      "     labels : (5000,)\n",
      "   }\n",
      "   test : {\n",
      "     feature : (45000, 2048)\n",
      "     logits : (45000, 1000)\n",
      "     labels : (45000,)\n",
      "   }\n",
      " }\n",
      " nearood : {\n",
      "   species : {\n",
      "     feature : (10000, 2048)\n",
      "     logits : (10000, 1000)\n",
      "     labels : (10000,)\n",
      "   }\n",
      "   inaturalist : {\n",
      "     feature : (10000, 2048)\n",
      "     logits : (10000, 1000)\n",
      "     labels : (10000,)\n",
      "   }\n",
      "   openimageo : {\n",
      "     feature : (15869, 2048)\n",
      "     logits : (15869, 1000)\n",
      "     labels : (15869,)\n",
      "   }\n",
      "   imageneto : {\n",
      "     feature : (2000, 2048)\n",
      "     logits : (2000, 1000)\n",
      "     labels : (2000,)\n",
      "   }\n",
      " }\n",
      " farood : {\n",
      "   texture : {\n",
      "     feature : (5160, 2048)\n",
      "     logits : (5160, 1000)\n",
      "     labels : (5160,)\n",
      "   }\n",
      "   mnist : {\n",
      "     feature : (9000, 2048)\n",
      "     logits : (9000, 1000)\n",
      "     labels : (9000,)\n",
      "   }\n",
      " }\n"
     ]
    }
   ],
   "source": [
    "print_nested_dict(results)"
   ]
  },
  {
   "cell_type": "code",
   "execution_count": 19,
   "id": "a3af6815",
   "metadata": {},
   "outputs": [],
   "source": [
    "# get pred, conf, gt from MSP postprocessor (can change to your custom_postprocessor here)\n",
    "postprocess_results = dict()\n",
    "# id\n",
    "modes = ['val', 'test']\n",
    "postprocess_results['id'] = dict()\n",
    "for mode in modes:\n",
    "    pred, conf = msp_postprocess(torch.from_numpy(results['id'][mode]['logits']))\n",
    "    pred, conf = pred.numpy(), conf.numpy()\n",
    "    gt = results['id'][mode]['labels']\n",
    "    postprocess_results['id'][mode] = [pred, conf, gt]\n",
    "\n",
    "# ood\n",
    "split_types = ['nearood', 'farood']\n",
    "for split_type in split_types:\n",
    "    postprocess_results[split_type] = dict()\n",
    "    dataset_names = config['ood_dataset'][split_type].datasets\n",
    "    for dataset_name in dataset_names:\n",
    "        pred, conf = msp_postprocess(torch.from_numpy(results[split_type][dataset_name]['logits']))\n",
    "        pred, conf = pred.numpy(), conf.numpy()\n",
    "        gt = results[split_type][dataset_name]['labels']\n",
    "        gt = -1 * np.ones_like(gt)   # hard set to -1 here\n",
    "        postprocess_results[split_type][dataset_name] = [pred, conf, gt]"
   ]
  },
  {
   "cell_type": "code",
   "execution_count": 20,
   "id": "41e3dac6",
   "metadata": {},
   "outputs": [],
   "source": [
    "def print_all_metrics(metrics):\n",
    "    [fpr, auroc, aupr_in, aupr_out,\n",
    "        ccr_4, ccr_3, ccr_2, ccr_1, accuracy] \\\n",
    "        = metrics\n",
    "    print('FPR@95: {:.2f}, AUROC: {:.2f}'.format(100 * fpr, 100 * auroc),\n",
    "            end=' ',\n",
    "            flush=True)\n",
    "    print('AUPR_IN: {:.2f}, AUPR_OUT: {:.2f}'.format(\n",
    "        100 * aupr_in, 100 * aupr_out),\n",
    "            flush=True)\n",
    "    print('CCR: {:.2f}, {:.2f}, {:.2f}, {:.2f},'.format(\n",
    "        ccr_4 * 100, ccr_3 * 100, ccr_2 * 100, ccr_1 * 100),\n",
    "            end=' ',\n",
    "            flush=True)\n",
    "    print('ACC: {:.2f}'.format(accuracy * 100), flush=True)\n",
    "    print(u'\\u2500' * 70, flush=True)   "
   ]
  },
  {
   "cell_type": "code",
   "execution_count": 21,
   "id": "b16e6f5b",
   "metadata": {},
   "outputs": [],
   "source": [
    "from openood.evaluators.metrics import compute_all_metrics\n",
    "def eval_ood(postprocess_results):\n",
    "    [id_pred, id_conf, id_gt] = postprocess_results['id']['test']\n",
    "    split_types = ['nearood', 'farood']\n",
    "\n",
    "    for split_type in split_types:\n",
    "        metrics_list = []\n",
    "        print(f\"Performing evaluation on {split_type} datasets...\")\n",
    "        dataset_names = config['ood_dataset'][split_type].datasets\n",
    "        \n",
    "        for dataset_name in dataset_names:\n",
    "            [ood_pred, ood_conf, ood_gt] = postprocess_results[split_type][dataset_name]\n",
    "\n",
    "            pred = np.concatenate([id_pred, ood_pred])\n",
    "            conf = np.concatenate([id_conf, ood_conf])\n",
    "            label = np.concatenate([id_gt, ood_gt])\n",
    "            print(f'Computing metrics on {dataset_name} dataset...')\n",
    "\n",
    "            ood_metrics = compute_all_metrics(conf, label, pred)\n",
    "            print_all_metrics(ood_metrics)\n",
    "            metrics_list.append(ood_metrics)\n",
    "        print('Computing mean metrics...', flush=True)\n",
    "        metrics_list = np.array(metrics_list)\n",
    "        metrics_mean = np.mean(metrics_list, axis=0)   \n",
    "        print_all_metrics(metrics_mean)\n",
    "\n",
    " "
   ]
  },
  {
   "cell_type": "code",
   "execution_count": 22,
   "id": "335686fe",
   "metadata": {},
   "outputs": [
    {
     "name": "stdout",
     "output_type": "stream",
     "text": [
      "THIS IS NON RAND AUGMENT\n",
      "Performing evaluation on nearood datasets...\n",
      "Computing metrics on species dataset...\n",
      "FPR@95: 79.72, AUROC: 75.18 AUPR_IN: 92.92, AUPR_OUT: 38.36\n",
      "CCR: 0.75, 2.62, 12.65, 40.16, ACC: 76.18\n",
      "──────────────────────────────────────────────────────────────────────\n",
      "Computing metrics on inaturalist dataset...\n",
      "FPR@95: 52.77, AUROC: 88.41 AUPR_IN: 97.09, AUPR_OUT: 63.88\n",
      "CCR: 8.11, 18.64, 35.58, 61.28, ACC: 76.18\n",
      "──────────────────────────────────────────────────────────────────────\n",
      "Computing metrics on openimageo dataset...\n",
      "FPR@95: 64.04, AUROC: 84.86 AUPR_IN: 94.11, AUPR_OUT: 64.60\n",
      "CCR: 2.55, 8.76, 29.61, 56.44, ACC: 76.18\n",
      "──────────────────────────────────────────────────────────────────────\n",
      "Computing metrics on imageneto dataset...\n",
      "FPR@95: 100.00, AUROC: 28.60 AUPR_IN: 94.30, AUPR_OUT: 2.79\n",
      "CCR: 0.00, 1.19, 3.57, 12.36, ACC: 76.18\n",
      "──────────────────────────────────────────────────────────────────────\n",
      "Computing mean metrics...\n",
      "FPR@95: 74.13, AUROC: 69.26 AUPR_IN: 94.61, AUPR_OUT: 42.41\n",
      "CCR: 2.85, 7.80, 20.35, 42.56, ACC: 76.18\n",
      "──────────────────────────────────────────────────────────────────────\n",
      "Performing evaluation on farood datasets...\n",
      "Computing metrics on texture dataset...\n",
      "FPR@95: 64.07, AUROC: 82.43 AUPR_IN: 97.18, AUPR_OUT: 40.28\n",
      "CCR: 0.00, 0.00, 10.14, 50.94, ACC: 76.18\n",
      "──────────────────────────────────────────────────────────────────────\n",
      "Computing metrics on mnist dataset...\n",
      "FPR@95: 52.40, AUROC: 89.79 AUPR_IN: 97.80, AUPR_OUT: 59.29\n",
      "CCR: 20.65, 33.50, 46.30, 64.37, ACC: 76.18\n",
      "──────────────────────────────────────────────────────────────────────\n",
      "Computing mean metrics...\n",
      "FPR@95: 58.23, AUROC: 86.11 AUPR_IN: 97.49, AUPR_OUT: 49.78\n",
      "CCR: 10.33, 16.75, 28.22, 57.66, ACC: 76.18\n",
      "──────────────────────────────────────────────────────────────────────\n"
     ]
    }
   ],
   "source": [
    "print(\"THIS IS NON RAND AUGMENT\")\n",
    "eval_ood(postprocess_results)"
   ]
  },
  {
   "cell_type": "code",
   "execution_count": null,
   "id": "f2ce6263",
   "metadata": {},
   "outputs": [],
   "source": []
  }
 ],
 "metadata": {
  "kernelspec": {
   "display_name": "Python 3 (ipykernel)",
   "language": "python",
   "name": "python3"
  },
  "language_info": {
   "codemirror_mode": {
    "name": "ipython",
    "version": 3
   },
   "file_extension": ".py",
   "mimetype": "text/x-python",
   "name": "python",
   "nbconvert_exporter": "python",
   "pygments_lexer": "ipython3",
   "version": "3.8.13"
  },
  "latex_envs": {
   "LaTeX_envs_menu_present": true,
   "autoclose": false,
   "autocomplete": true,
   "bibliofile": "biblio.bib",
   "cite_by": "apalike",
   "current_citInitial": 1,
   "eqLabelWithNumbers": true,
   "eqNumInitial": 1,
   "hotkeys": {
    "equation": "Ctrl-E",
    "itemize": "Ctrl-I"
   },
   "labels_anchors": false,
   "latex_user_defs": false,
   "report_style_numbering": false,
   "user_envs_cfg": false
  },
  "toc": {
   "base_numbering": 1,
   "nav_menu": {},
   "number_sections": true,
   "sideBar": true,
   "skip_h1_title": false,
   "title_cell": "Table of Contents",
   "title_sidebar": "Contents",
   "toc_cell": false,
   "toc_position": {},
   "toc_section_display": true,
   "toc_window_display": false
  },
  "vscode": {
   "interpreter": {
    "hash": "31f2aee4e71d21fbe5cf8b01ff0e069b9275f58929596ceb00d14d90e3e16cd6"
   }
  }
 },
 "nbformat": 4,
 "nbformat_minor": 5
}
